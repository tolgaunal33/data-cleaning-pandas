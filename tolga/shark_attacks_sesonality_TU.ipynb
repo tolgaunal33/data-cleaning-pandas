{
 "cells": [
  {
   "cell_type": "code",
   "execution_count": 1,
   "id": "091a462d-4407-46a4-bb30-03ab1d4612ef",
   "metadata": {},
   "outputs": [
    {
     "name": "stdout",
     "output_type": "stream",
     "text": [
      "Requirement already satisfied: openpyxl in c:\\users\\tevfi\\anaconda3\\lib\\site-packages (3.1.2)\n",
      "Requirement already satisfied: et-xmlfile in c:\\users\\tevfi\\anaconda3\\lib\\site-packages (from openpyxl) (1.1.0)\n"
     ]
    }
   ],
   "source": [
    "# Installing the openpyxl package (required for reading Excel files)\n",
    "!pip install openpyxl\n",
    "\n",
    "# Importing necessary libraries\n",
    "import pandas as pd  # For data analysis and manipulation\n",
    "import numpy as np  # For numerical computations and array operations\n",
    "import matplotlib.pyplot as plt  # For data visualization"
   ]
  },
  {
   "cell_type": "code",
   "execution_count": 2,
   "id": "2cf44bed-2acd-4f22-8022-c2e0308d0a6c",
   "metadata": {},
   "outputs": [
    {
     "data": {
      "text/html": [
       "<div>\n",
       "<style scoped>\n",
       "    .dataframe tbody tr th:only-of-type {\n",
       "        vertical-align: middle;\n",
       "    }\n",
       "\n",
       "    .dataframe tbody tr th {\n",
       "        vertical-align: top;\n",
       "    }\n",
       "\n",
       "    .dataframe thead th {\n",
       "        text-align: right;\n",
       "    }\n",
       "</style>\n",
       "<table border=\"1\" class=\"dataframe\">\n",
       "  <thead>\n",
       "    <tr style=\"text-align: right;\">\n",
       "      <th></th>\n",
       "      <th>Date</th>\n",
       "      <th>Year</th>\n",
       "      <th>Type</th>\n",
       "      <th>Country</th>\n",
       "      <th>State</th>\n",
       "      <th>Location</th>\n",
       "      <th>Activity</th>\n",
       "      <th>Name</th>\n",
       "      <th>Sex</th>\n",
       "      <th>Age</th>\n",
       "      <th>...</th>\n",
       "      <th>Species</th>\n",
       "      <th>Source</th>\n",
       "      <th>pdf</th>\n",
       "      <th>href formula</th>\n",
       "      <th>href</th>\n",
       "      <th>Case Number</th>\n",
       "      <th>Case Number.1</th>\n",
       "      <th>original order</th>\n",
       "      <th>Unnamed: 21</th>\n",
       "      <th>Unnamed: 22</th>\n",
       "    </tr>\n",
       "  </thead>\n",
       "  <tbody>\n",
       "    <tr>\n",
       "      <th>0</th>\n",
       "      <td>NaN</td>\n",
       "      <td>NaN</td>\n",
       "      <td>NaN</td>\n",
       "      <td>NaN</td>\n",
       "      <td>NaN</td>\n",
       "      <td>NaN</td>\n",
       "      <td>NaN</td>\n",
       "      <td>NaN</td>\n",
       "      <td>NaN</td>\n",
       "      <td>NaN</td>\n",
       "      <td>...</td>\n",
       "      <td>NaN</td>\n",
       "      <td>NaN</td>\n",
       "      <td>NaN</td>\n",
       "      <td>NaN</td>\n",
       "      <td>NaN</td>\n",
       "      <td>NaN</td>\n",
       "      <td>NaN</td>\n",
       "      <td>NaN</td>\n",
       "      <td>NaN</td>\n",
       "      <td>NaN</td>\n",
       "    </tr>\n",
       "    <tr>\n",
       "      <th>1</th>\n",
       "      <td>2024-11-01 00:00:00</td>\n",
       "      <td>2024.0</td>\n",
       "      <td>Unprovoked</td>\n",
       "      <td>Hawaii</td>\n",
       "      <td>Maui</td>\n",
       "      <td>Sand Piles Waiehu Beach Park</td>\n",
       "      <td>Surfing</td>\n",
       "      <td>Kenji</td>\n",
       "      <td>M</td>\n",
       "      <td>61</td>\n",
       "      <td>...</td>\n",
       "      <td>Not stated</td>\n",
       "      <td>Glen Folkard: Independent: Fox News: Sky News ...</td>\n",
       "      <td>NaN</td>\n",
       "      <td>NaN</td>\n",
       "      <td>NaN</td>\n",
       "      <td>NaN</td>\n",
       "      <td>NaN</td>\n",
       "      <td>NaN</td>\n",
       "      <td>NaN</td>\n",
       "      <td>NaN</td>\n",
       "    </tr>\n",
       "    <tr>\n",
       "      <th>2</th>\n",
       "      <td>2024-10-31 00:00:00</td>\n",
       "      <td>2024.0</td>\n",
       "      <td>Unprovoked</td>\n",
       "      <td>Australia</td>\n",
       "      <td>Queensland</td>\n",
       "      <td>Whitsunday Islands</td>\n",
       "      <td>Snorkeling</td>\n",
       "      <td>Not stated</td>\n",
       "      <td>F</td>\n",
       "      <td>57</td>\n",
       "      <td>...</td>\n",
       "      <td>Reported as a large Tiger shark</td>\n",
       "      <td>Simon de Marchi: 9 News: 7 News: ABC News:</td>\n",
       "      <td>NaN</td>\n",
       "      <td>NaN</td>\n",
       "      <td>NaN</td>\n",
       "      <td>NaN</td>\n",
       "      <td>NaN</td>\n",
       "      <td>NaN</td>\n",
       "      <td>NaN</td>\n",
       "      <td>NaN</td>\n",
       "    </tr>\n",
       "    <tr>\n",
       "      <th>3</th>\n",
       "      <td>2024-10-25 00:00:00</td>\n",
       "      <td>2024.0</td>\n",
       "      <td>Unprovoked</td>\n",
       "      <td>USA</td>\n",
       "      <td>Florida</td>\n",
       "      <td>Bathtub Beach, Martin County</td>\n",
       "      <td>Surfing</td>\n",
       "      <td>Cole Taschman</td>\n",
       "      <td>M</td>\n",
       "      <td>27</td>\n",
       "      <td>...</td>\n",
       "      <td>Bull or tiger 7-8ft</td>\n",
       "      <td>Bob Myatt: Yardbarker: 12 on your side: WPTV: ...</td>\n",
       "      <td>NaN</td>\n",
       "      <td>NaN</td>\n",
       "      <td>NaN</td>\n",
       "      <td>NaN</td>\n",
       "      <td>NaN</td>\n",
       "      <td>NaN</td>\n",
       "      <td>NaN</td>\n",
       "      <td>NaN</td>\n",
       "    </tr>\n",
       "    <tr>\n",
       "      <th>4</th>\n",
       "      <td>2024-10-14 00:00:00</td>\n",
       "      <td>2024.0</td>\n",
       "      <td>Unprovoked</td>\n",
       "      <td>Honduras</td>\n",
       "      <td>Tela</td>\n",
       "      <td>Atlantida</td>\n",
       "      <td>Swimming</td>\n",
       "      <td>Roberto Carlose Bu Mejia</td>\n",
       "      <td>M</td>\n",
       "      <td>38</td>\n",
       "      <td>...</td>\n",
       "      <td>Bull shark</td>\n",
       "      <td>Georgienne Bradley: Daily Mail UK: FTN News.com</td>\n",
       "      <td>NaN</td>\n",
       "      <td>NaN</td>\n",
       "      <td>NaN</td>\n",
       "      <td>NaN</td>\n",
       "      <td>NaN</td>\n",
       "      <td>NaN</td>\n",
       "      <td>NaN</td>\n",
       "      <td>NaN</td>\n",
       "    </tr>\n",
       "  </tbody>\n",
       "</table>\n",
       "<p>5 rows × 23 columns</p>\n",
       "</div>"
      ],
      "text/plain": [
       "                  Date    Year        Type    Country       State  \\\n",
       "0                  NaN     NaN         NaN        NaN         NaN   \n",
       "1  2024-11-01 00:00:00  2024.0  Unprovoked     Hawaii        Maui   \n",
       "2  2024-10-31 00:00:00  2024.0  Unprovoked  Australia  Queensland   \n",
       "3  2024-10-25 00:00:00  2024.0  Unprovoked        USA     Florida   \n",
       "4  2024-10-14 00:00:00  2024.0  Unprovoked   Honduras        Tela   \n",
       "\n",
       "                       Location    Activity                      Name  Sex  \\\n",
       "0                           NaN         NaN                       NaN  NaN   \n",
       "1  Sand Piles Waiehu Beach Park     Surfing                     Kenji    M   \n",
       "2            Whitsunday Islands  Snorkeling                Not stated    F   \n",
       "3  Bathtub Beach, Martin County     Surfing             Cole Taschman    M   \n",
       "4                     Atlantida    Swimming  Roberto Carlose Bu Mejia    M   \n",
       "\n",
       "   Age  ...                         Species   \\\n",
       "0  NaN  ...                              NaN   \n",
       "1   61  ...                       Not stated   \n",
       "2   57  ...  Reported as a large Tiger shark   \n",
       "3   27  ...              Bull or tiger 7-8ft   \n",
       "4   38  ...                       Bull shark   \n",
       "\n",
       "                                              Source  pdf href formula href  \\\n",
       "0                                                NaN  NaN          NaN  NaN   \n",
       "1  Glen Folkard: Independent: Fox News: Sky News ...  NaN          NaN  NaN   \n",
       "2         Simon de Marchi: 9 News: 7 News: ABC News:  NaN          NaN  NaN   \n",
       "3  Bob Myatt: Yardbarker: 12 on your side: WPTV: ...  NaN          NaN  NaN   \n",
       "4    Georgienne Bradley: Daily Mail UK: FTN News.com  NaN          NaN  NaN   \n",
       "\n",
       "  Case Number Case Number.1 original order Unnamed: 21 Unnamed: 22  \n",
       "0         NaN           NaN            NaN         NaN         NaN  \n",
       "1         NaN           NaN            NaN         NaN         NaN  \n",
       "2         NaN           NaN            NaN         NaN         NaN  \n",
       "3         NaN           NaN            NaN         NaN         NaN  \n",
       "4         NaN           NaN            NaN         NaN         NaN  \n",
       "\n",
       "[5 rows x 23 columns]"
      ]
     },
     "execution_count": 2,
     "metadata": {},
     "output_type": "execute_result"
    }
   ],
   "source": [
    "# Defining the file path to the Excel file\n",
    "file_path = r'C:\\Users\\tevfi\\Desktop\\Ironhack\\miniproject2\\GSAF5.xls'\n",
    "\n",
    "# Reading the Excel file into a pandas DataFrame\n",
    "shark_attacks_df = pd.read_excel(file_path)\n",
    "\n",
    "# Displaying the first 5 rows of the DataFrame\n",
    "shark_attacks_df.head()\n"
   ]
  },
  {
   "cell_type": "code",
   "execution_count": 5,
   "id": "43213c64-fe03-4e65-8aba-60bde9fb88cd",
   "metadata": {},
   "outputs": [],
   "source": [
    "# Dropping unnecessary columns from the DataFrame\n",
    "shark_attacks_df.drop(['Unnamed: 21', 'Unnamed: 22', 'Unnamed: 11', 'href', 'href formula', 'pdf', 'original order', 'Case Number.1', 'Case Number'], axis=1, inplace=True)\n"
   ]
  },
  {
   "cell_type": "code",
   "execution_count": 7,
   "id": "859e0e9d-1c7c-4e6c-86ac-91a1684ee5d8",
   "metadata": {},
   "outputs": [
    {
     "data": {
      "text/plain": [
       "Index(['Date', 'Year', 'Type', 'Country', 'State', 'Location', 'Activity',\n",
       "       'Name', 'Sex', 'Age', 'Injury', 'Time', 'Species ', 'Source'],\n",
       "      dtype='object')"
      ]
     },
     "execution_count": 7,
     "metadata": {},
     "output_type": "execute_result"
    }
   ],
   "source": [
    "# Displaying the current column names of the DataFrame\n",
    "shark_attacks_df.columns"
   ]
  },
  {
   "cell_type": "code",
   "execution_count": 8,
   "id": "a4110544-e2a9-4cb7-ba53-fb4a355ab551",
   "metadata": {},
   "outputs": [
    {
     "data": {
      "text/plain": [
       "2553             07-Sep-2001\n",
       "4150                    1968\n",
       "2320             22-May-2004\n",
       "6480                Ca. 1881\n",
       "1453             20-Mar-2012\n",
       "5863             16-Oct-1923\n",
       "1922    Reported 09-Apr-2008\n",
       "3012             28-Jul-1995\n",
       "1982             04-Sep-2007\n",
       "1986             28-Aug-2007\n",
       "Name: Date, dtype: object"
      ]
     },
     "execution_count": 8,
     "metadata": {},
     "output_type": "execute_result"
    }
   ],
   "source": [
    "# Displaying a random sample of 10 entries from the 'Date' column to check its format\n",
    "shark_attacks_df['Date'].sample(10)\n"
   ]
  },
  {
   "cell_type": "code",
   "execution_count": 9,
   "id": "2c5e00a5-abba-483d-b792-3555fa42f964",
   "metadata": {},
   "outputs": [
    {
     "data": {
      "text/plain": [
       "0             NaT\n",
       "1      2024-11-01\n",
       "2      2024-10-31\n",
       "3      2024-10-25\n",
       "4      2024-10-14\n",
       "          ...    \n",
       "6972          NaT\n",
       "6973          NaT\n",
       "6974          NaT\n",
       "6975          NaT\n",
       "6976          NaT\n",
       "Name: Date, Length: 6977, dtype: datetime64[ns]"
      ]
     },
     "metadata": {},
     "output_type": "display_data"
    }
   ],
   "source": [
    "# Converting the 'Date' column to datetime format, coercing any errors to NaT (Not a Time)\n",
    "shark_attacks_df['Date'] = pd.to_datetime(shark_attacks_df['Date'], errors='coerce')\n",
    "\n",
    "# Displaying the updated 'Date' column to confirm the conversion\n",
    "display(shark_attacks_df['Date'])"
   ]
  },
  {
   "cell_type": "code",
   "execution_count": 12,
   "id": "258de014-fdae-4c09-9b5f-414248e6d592",
   "metadata": {},
   "outputs": [
    {
     "data": {
      "text/plain": [
       "6932          NaT\n",
       "3183   1992-09-11\n",
       "6135          NaT\n",
       "6688   1852-02-26\n",
       "2437   2003-04-15\n",
       "3000   1995-08-25\n",
       "4300   1965-01-10\n",
       "2762   1999-07-21\n",
       "2017   2007-06-24\n",
       "248    2022-01-01\n",
       "Name: Date, dtype: datetime64[ns]"
      ]
     },
     "execution_count": 12,
     "metadata": {},
     "output_type": "execute_result"
    }
   ],
   "source": [
    "# Displaying a random sample of 10 entries from the 'Date' column to confirm the conversion to datetime format\n",
    "shark_attacks_df['Date'].sample(10)"
   ]
  },
  {
   "cell_type": "code",
   "execution_count": 15,
   "id": "0602e70a-ea5c-4d34-a711-ccc54ecc2d13",
   "metadata": {},
   "outputs": [
    {
     "name": "stdout",
     "output_type": "stream",
     "text": [
      "5168\n"
     ]
    }
   ],
   "source": [
    "# Counting the number of unique dates in the 'Date' column\n",
    "date_count = shark_attacks_df['Date'].nunique()\n",
    "\n",
    "# Printing the count of unique dates\n",
    "print(date_count)\n"
   ]
  },
  {
   "cell_type": "code",
   "execution_count": 16,
   "id": "0d3324f0-bd54-4407-a5cd-ed48800ef908",
   "metadata": {},
   "outputs": [
    {
     "name": "stdout",
     "output_type": "stream",
     "text": [
      "876\n"
     ]
    }
   ],
   "source": [
    "# Counting the number of missing (NaT) values in the 'Date' column after conversion\n",
    "null_date_count = shark_attacks_df['Date'].isnull().sum()\n",
    "\n",
    "# Printing the count of missing dates\n",
    "print(null_date_count)\n"
   ]
  },
  {
   "cell_type": "code",
   "execution_count": 17,
   "id": "96ae38fa-665d-464a-a68f-88682b965045",
   "metadata": {},
   "outputs": [],
   "source": [
    "# Dropping rows where the 'Date' column has missing values (NaT)\n",
    "shark_attacks_df = shark_attacks_df.dropna(subset=['Date'])\n"
   ]
  },
  {
   "cell_type": "code",
   "execution_count": 18,
   "id": "b4d0205a-48ab-4a06-acb5-b8e69010d886",
   "metadata": {},
   "outputs": [
    {
     "data": {
      "text/plain": [
       "(6101, 14)"
      ]
     },
     "execution_count": 18,
     "metadata": {},
     "output_type": "execute_result"
    }
   ],
   "source": [
    "# Displaying the shape of the DataFrame (number of rows and columns)\n",
    "shark_attacks_df.shape\n"
   ]
  },
  {
   "cell_type": "code",
   "execution_count": 19,
   "id": "b2af4b31-449c-4526-a155-382a9611cf04",
   "metadata": {},
   "outputs": [
    {
     "data": {
      "text/plain": [
       "0"
      ]
     },
     "execution_count": 19,
     "metadata": {},
     "output_type": "execute_result"
    }
   ],
   "source": [
    "# Confirming that there are no more missing values in the 'Date' column after dropping rows\n",
    "shark_attacks_df['Date'].isnull().sum()\n"
   ]
  },
  {
   "cell_type": "code",
   "execution_count": 20,
   "id": "c77ca14a-b2b6-4736-afbd-a4a2621bfcc1",
   "metadata": {},
   "outputs": [],
   "source": [
    "# Extracting the month from the 'Date' column and creating a new 'Month' column\n",
    "shark_attacks_df['Month'] = shark_attacks_df['Date'].dt.month\n"
   ]
  },
  {
   "cell_type": "code",
   "execution_count": 21,
   "id": "fe54366d-5be4-410a-847a-abe5d2f064d3",
   "metadata": {},
   "outputs": [
    {
     "data": {
      "text/html": [
       "<div>\n",
       "<style scoped>\n",
       "    .dataframe tbody tr th:only-of-type {\n",
       "        vertical-align: middle;\n",
       "    }\n",
       "\n",
       "    .dataframe tbody tr th {\n",
       "        vertical-align: top;\n",
       "    }\n",
       "\n",
       "    .dataframe thead th {\n",
       "        text-align: right;\n",
       "    }\n",
       "</style>\n",
       "<table border=\"1\" class=\"dataframe\">\n",
       "  <thead>\n",
       "    <tr style=\"text-align: right;\">\n",
       "      <th></th>\n",
       "      <th>Date</th>\n",
       "      <th>Year</th>\n",
       "      <th>Type</th>\n",
       "      <th>Country</th>\n",
       "      <th>State</th>\n",
       "      <th>Location</th>\n",
       "      <th>Activity</th>\n",
       "      <th>Name</th>\n",
       "      <th>Sex</th>\n",
       "      <th>Age</th>\n",
       "      <th>Injury</th>\n",
       "      <th>Time</th>\n",
       "      <th>Species</th>\n",
       "      <th>Source</th>\n",
       "      <th>Month</th>\n",
       "    </tr>\n",
       "  </thead>\n",
       "  <tbody>\n",
       "    <tr>\n",
       "      <th>1</th>\n",
       "      <td>2024-11-01</td>\n",
       "      <td>2024.0</td>\n",
       "      <td>Unprovoked</td>\n",
       "      <td>Hawaii</td>\n",
       "      <td>Maui</td>\n",
       "      <td>Sand Piles Waiehu Beach Park</td>\n",
       "      <td>Surfing</td>\n",
       "      <td>Kenji</td>\n",
       "      <td>M</td>\n",
       "      <td>61</td>\n",
       "      <td>Right leg severted below knee</td>\n",
       "      <td>?</td>\n",
       "      <td>Not stated</td>\n",
       "      <td>Glen Folkard: Independent: Fox News: Sky News ...</td>\n",
       "      <td>11</td>\n",
       "    </tr>\n",
       "    <tr>\n",
       "      <th>2</th>\n",
       "      <td>2024-10-31</td>\n",
       "      <td>2024.0</td>\n",
       "      <td>Unprovoked</td>\n",
       "      <td>Australia</td>\n",
       "      <td>Queensland</td>\n",
       "      <td>Whitsunday Islands</td>\n",
       "      <td>Snorkeling</td>\n",
       "      <td>Not stated</td>\n",
       "      <td>F</td>\n",
       "      <td>57</td>\n",
       "      <td>30cm (1ft) bite to lower calf</td>\n",
       "      <td>16.30hrs</td>\n",
       "      <td>Reported as a large Tiger shark</td>\n",
       "      <td>Simon de Marchi: 9 News: 7 News: ABC News:</td>\n",
       "      <td>10</td>\n",
       "    </tr>\n",
       "    <tr>\n",
       "      <th>3</th>\n",
       "      <td>2024-10-25</td>\n",
       "      <td>2024.0</td>\n",
       "      <td>Unprovoked</td>\n",
       "      <td>USA</td>\n",
       "      <td>Florida</td>\n",
       "      <td>Bathtub Beach, Martin County</td>\n",
       "      <td>Surfing</td>\n",
       "      <td>Cole Taschman</td>\n",
       "      <td>M</td>\n",
       "      <td>27</td>\n",
       "      <td>Both feet bitten</td>\n",
       "      <td>AM</td>\n",
       "      <td>Bull or tiger 7-8ft</td>\n",
       "      <td>Bob Myatt: Yardbarker: 12 on your side: WPTV: ...</td>\n",
       "      <td>10</td>\n",
       "    </tr>\n",
       "    <tr>\n",
       "      <th>4</th>\n",
       "      <td>2024-10-14</td>\n",
       "      <td>2024.0</td>\n",
       "      <td>Unprovoked</td>\n",
       "      <td>Honduras</td>\n",
       "      <td>Tela</td>\n",
       "      <td>Atlantida</td>\n",
       "      <td>Swimming</td>\n",
       "      <td>Roberto Carlose Bu Mejia</td>\n",
       "      <td>M</td>\n",
       "      <td>38</td>\n",
       "      <td>Back and thigh extensive tissue loss</td>\n",
       "      <td>?</td>\n",
       "      <td>Bull shark</td>\n",
       "      <td>Georgienne Bradley: Daily Mail UK: FTN News.com</td>\n",
       "      <td>10</td>\n",
       "    </tr>\n",
       "    <tr>\n",
       "      <th>5</th>\n",
       "      <td>2024-10-11</td>\n",
       "      <td>2024.0</td>\n",
       "      <td>Unprovoked</td>\n",
       "      <td>USA</td>\n",
       "      <td>Florida</td>\n",
       "      <td>Brevard County Orlando</td>\n",
       "      <td>Surfing</td>\n",
       "      <td>Teddy Witteman</td>\n",
       "      <td>M</td>\n",
       "      <td>16</td>\n",
       "      <td>Bite to left arm</td>\n",
       "      <td>?</td>\n",
       "      <td>Bull shark 6ft</td>\n",
       "      <td>Todd SmithFlorida today: News 4:</td>\n",
       "      <td>10</td>\n",
       "    </tr>\n",
       "  </tbody>\n",
       "</table>\n",
       "</div>"
      ],
      "text/plain": [
       "        Date    Year        Type    Country       State  \\\n",
       "1 2024-11-01  2024.0  Unprovoked     Hawaii        Maui   \n",
       "2 2024-10-31  2024.0  Unprovoked  Australia  Queensland   \n",
       "3 2024-10-25  2024.0  Unprovoked        USA     Florida   \n",
       "4 2024-10-14  2024.0  Unprovoked   Honduras        Tela   \n",
       "5 2024-10-11  2024.0  Unprovoked        USA     Florida   \n",
       "\n",
       "                       Location    Activity                      Name Sex Age  \\\n",
       "1  Sand Piles Waiehu Beach Park     Surfing                     Kenji   M  61   \n",
       "2            Whitsunday Islands  Snorkeling                Not stated   F  57   \n",
       "3  Bathtub Beach, Martin County     Surfing             Cole Taschman   M  27   \n",
       "4                     Atlantida    Swimming  Roberto Carlose Bu Mejia   M  38   \n",
       "5        Brevard County Orlando     Surfing            Teddy Witteman   M  16   \n",
       "\n",
       "                                 Injury      Time  \\\n",
       "1         Right leg severted below knee         ?   \n",
       "2        30cm (1ft) bite to lower calf   16.30hrs   \n",
       "3                      Both feet bitten        AM   \n",
       "4  Back and thigh extensive tissue loss         ?   \n",
       "5                      Bite to left arm         ?   \n",
       "\n",
       "                          Species   \\\n",
       "1                       Not stated   \n",
       "2  Reported as a large Tiger shark   \n",
       "3              Bull or tiger 7-8ft   \n",
       "4                       Bull shark   \n",
       "5                   Bull shark 6ft   \n",
       "\n",
       "                                              Source  Month  \n",
       "1  Glen Folkard: Independent: Fox News: Sky News ...     11  \n",
       "2         Simon de Marchi: 9 News: 7 News: ABC News:     10  \n",
       "3  Bob Myatt: Yardbarker: 12 on your side: WPTV: ...     10  \n",
       "4    Georgienne Bradley: Daily Mail UK: FTN News.com     10  \n",
       "5                   Todd SmithFlorida today: News 4:     10  "
      ]
     },
     "execution_count": 21,
     "metadata": {},
     "output_type": "execute_result"
    }
   ],
   "source": [
    "# Displaying the first 5 rows of the updated DataFrame to confirm the addition of the 'Month' column\n",
    "shark_attacks_df.head()\n"
   ]
  },
  {
   "cell_type": "code",
   "execution_count": 22,
   "id": "1cfdf6f4-a687-48dc-9be2-fcb1b471fabe",
   "metadata": {},
   "outputs": [
    {
     "data": {
      "text/plain": [
       "Month\n",
       "1     798\n",
       "2     380\n",
       "3     420\n",
       "4     449\n",
       "5     413\n",
       "6     491\n",
       "7     696\n",
       "8     602\n",
       "9     542\n",
       "10    458\n",
       "11    412\n",
       "12    440\n",
       "Name: count, dtype: int64"
      ]
     },
     "execution_count": 22,
     "metadata": {},
     "output_type": "execute_result"
    }
   ],
   "source": [
    "# Grouping the data by 'Month' and counting the number of occurrences for each month\n",
    "month_counts = shark_attacks_df['Month'].value_counts().sort_index()\n",
    "\n",
    "# Displaying the counts for each month\n",
    "month_counts\n"
   ]
  },
  {
   "cell_type": "code",
   "execution_count": 23,
   "id": "b70c1436-efc4-49b4-9b7b-022f75f0a026",
   "metadata": {},
   "outputs": [
    {
     "name": "stdout",
     "output_type": "stream",
     "text": [
      "Country    28\n",
      "Month       0\n",
      "dtype: int64\n"
     ]
    }
   ],
   "source": [
    "# Counting missing values in the 'Country' and 'Month' columns\n",
    "print(shark_attacks_df[['Country', 'Month']].isnull().sum())\n"
   ]
  },
  {
   "cell_type": "code",
   "execution_count": 24,
   "id": "1d9bcc89-0af4-431d-803f-5f54cedfc3e3",
   "metadata": {},
   "outputs": [],
   "source": [
    "# Dropping rows where the 'Country' column has missing values\n",
    "shark_attacks_df.dropna(subset=['Country'], inplace=True)\n"
   ]
  },
  {
   "cell_type": "code",
   "execution_count": 25,
   "id": "cf599f10-ab0a-42ab-9cd5-25767aee1f8d",
   "metadata": {},
   "outputs": [],
   "source": [
    "# Cleaning and standardizing the 'Country' column\n",
    "shark_attacks_df['Country'] = shark_attacks_df['Country'].str.strip().str.title()\n"
   ]
  },
  {
   "cell_type": "code",
   "execution_count": 26,
   "id": "a65cc09c-76a6-407a-984d-2f5f19cbd55d",
   "metadata": {},
   "outputs": [
    {
     "data": {
      "text/html": [
       "<div>\n",
       "<style scoped>\n",
       "    .dataframe tbody tr th:only-of-type {\n",
       "        vertical-align: middle;\n",
       "    }\n",
       "\n",
       "    .dataframe tbody tr th {\n",
       "        vertical-align: top;\n",
       "    }\n",
       "\n",
       "    .dataframe thead th {\n",
       "        text-align: right;\n",
       "    }\n",
       "</style>\n",
       "<table border=\"1\" class=\"dataframe\">\n",
       "  <thead>\n",
       "    <tr style=\"text-align: right;\">\n",
       "      <th>Month</th>\n",
       "      <th>1</th>\n",
       "      <th>2</th>\n",
       "      <th>3</th>\n",
       "      <th>4</th>\n",
       "      <th>5</th>\n",
       "      <th>6</th>\n",
       "      <th>7</th>\n",
       "      <th>8</th>\n",
       "      <th>9</th>\n",
       "      <th>10</th>\n",
       "      <th>11</th>\n",
       "      <th>12</th>\n",
       "    </tr>\n",
       "    <tr>\n",
       "      <th>Country</th>\n",
       "      <th></th>\n",
       "      <th></th>\n",
       "      <th></th>\n",
       "      <th></th>\n",
       "      <th></th>\n",
       "      <th></th>\n",
       "      <th></th>\n",
       "      <th></th>\n",
       "      <th></th>\n",
       "      <th></th>\n",
       "      <th></th>\n",
       "      <th></th>\n",
       "    </tr>\n",
       "  </thead>\n",
       "  <tbody>\n",
       "    <tr>\n",
       "      <th>Australia</th>\n",
       "      <td>235</td>\n",
       "      <td>146</td>\n",
       "      <td>127</td>\n",
       "      <td>108</td>\n",
       "      <td>59</td>\n",
       "      <td>61</td>\n",
       "      <td>51</td>\n",
       "      <td>54</td>\n",
       "      <td>60</td>\n",
       "      <td>99</td>\n",
       "      <td>141</td>\n",
       "      <td>179</td>\n",
       "    </tr>\n",
       "    <tr>\n",
       "      <th>Mexico</th>\n",
       "      <td>8</td>\n",
       "      <td>4</td>\n",
       "      <td>6</td>\n",
       "      <td>8</td>\n",
       "      <td>10</td>\n",
       "      <td>6</td>\n",
       "      <td>10</td>\n",
       "      <td>6</td>\n",
       "      <td>7</td>\n",
       "      <td>5</td>\n",
       "      <td>7</td>\n",
       "      <td>8</td>\n",
       "    </tr>\n",
       "    <tr>\n",
       "      <th>Portugal</th>\n",
       "      <td>0</td>\n",
       "      <td>0</td>\n",
       "      <td>0</td>\n",
       "      <td>0</td>\n",
       "      <td>0</td>\n",
       "      <td>1</td>\n",
       "      <td>1</td>\n",
       "      <td>1</td>\n",
       "      <td>0</td>\n",
       "      <td>0</td>\n",
       "      <td>0</td>\n",
       "      <td>1</td>\n",
       "    </tr>\n",
       "    <tr>\n",
       "      <th>South Africa</th>\n",
       "      <td>125</td>\n",
       "      <td>55</td>\n",
       "      <td>51</td>\n",
       "      <td>48</td>\n",
       "      <td>39</td>\n",
       "      <td>27</td>\n",
       "      <td>37</td>\n",
       "      <td>24</td>\n",
       "      <td>22</td>\n",
       "      <td>29</td>\n",
       "      <td>37</td>\n",
       "      <td>68</td>\n",
       "    </tr>\n",
       "  </tbody>\n",
       "</table>\n",
       "</div>"
      ],
      "text/plain": [
       "Month          1    2    3    4   5   6   7   8   9   10   11   12\n",
       "Country                                                           \n",
       "Australia     235  146  127  108  59  61  51  54  60  99  141  179\n",
       "Mexico          8    4    6    8  10   6  10   6   7   5    7    8\n",
       "Portugal        0    0    0    0   0   1   1   1   0   0    0    1\n",
       "South Africa  125   55   51   48  39  27  37  24  22  29   37   68"
      ]
     },
     "execution_count": 26,
     "metadata": {},
     "output_type": "execute_result"
    }
   ],
   "source": [
    "# Defining a list of countries to focus on for analysis\n",
    "countries_to_analyze = ['Australia', 'Mexico', 'South Africa', 'Portugal']\n",
    "\n",
    "# Filtering the DataFrame to include only the specified countries\n",
    "shark_attacks_df_filtered = shark_attacks_df[shark_attacks_df['Country'].isin(countries_to_analyze)]\n",
    "\n",
    "# Grouping the filtered data by 'Country' and 'Month' and counting the occurrences\n",
    "monthly_counts = shark_attacks_df_filtered.groupby(['Country', 'Month']).size().unstack(fill_value=0)\n",
    "\n",
    "# Displaying the resulting DataFrame with counts of shark attacks by country and month\n",
    "monthly_counts\n"
   ]
  },
  {
   "cell_type": "code",
   "execution_count": 27,
   "id": "d57d298e",
   "metadata": {},
   "outputs": [
    {
     "name": "stdout",
     "output_type": "stream",
     "text": [
      "Country\n",
      "Australia       1320\n",
      "Mexico            85\n",
      "South Africa     562\n",
      "Portugal           4\n",
      "Name: count, dtype: int64\n"
     ]
    }
   ],
   "source": [
    "# Counting the occurrences of each country in the dataset\n",
    "country_count = shark_attacks_df[\"Country\"].value_counts()\n",
    "\n",
    "# Extracting the counts for the selected countries\n",
    "selected_countries = country_count[countries_to_analyze]\n",
    "\n",
    "# Printing the counts for the specified countries\n",
    "print(selected_countries)\n"
   ]
  },
  {
   "cell_type": "code",
   "execution_count": 28,
   "id": "79ee27af-8916-445a-9e92-5d55cf4879b8",
   "metadata": {},
   "outputs": [],
   "source": [
    "# Importing the seaborn library for advanced data visualization\n",
    "import seaborn as sns\n"
   ]
  },
  {
   "cell_type": "code",
   "execution_count": 29,
   "id": "6cfac718-d864-4488-ba42-69c390f142b2",
   "metadata": {},
   "outputs": [
    {
     "data": {
      "image/png": "[encoded data removed]",
      "text/plain": [
       "<Figure size 1000x500 with 1 Axes>"
      ]
     },
     "metadata": {},
     "output_type": "display_data"
    }
   ],
   "source": [
    "# Defining the months (1 for January, 2 for February, etc.)\n",
    "months = [1, 2, 3, 4, 5, 6, 7, 8, 9, 10, 11, 12]  # X positions for each month\n",
    "\n",
    "# Defining the number of shark attacks in Australia for each month\n",
    "australia_counts = [235, 146, 127, 108, 59, 61, 51, 54, 60, 99, 141, 179]  # Heights of bars for Australia\n",
    "\n",
    "# Setting the size of the figure\n",
    "plt.figure(figsize=(10, 5))\n",
    "\n",
    "# Adding title and labels to the plot\n",
    "plt.title('Shark Attack Counts in Australia by Month')\n",
    "plt.xlabel('Months')\n",
    "plt.ylabel('Number of Shark Attacks')\n",
    "\n",
    "# Creating a bar plot to show the number of shark attacks by month in Australia\n",
    "plt.bar(months, australia_counts, color='skyblue', edgecolor='black', label='Australia')\n",
    "\n",
    "# Displaying the plot\n",
    "plt.show()\n"
   ]
  },
  {
   "cell_type": "code",
   "execution_count": 30,
   "id": "998df901-d245-41d1-8418-d6ef43a76296",
   "metadata": {},
   "outputs": [
    {
     "data": {
      "image/png": "[encoded data removed]",
      "text/plain": [
       "<Figure size 1000x500 with 1 Axes>"
      ]
     },
     "metadata": {},
     "output_type": "display_data"
    }
   ],
   "source": [
    "# Defining the months (1 for January, 2 for February, etc.)\n",
    "months = [1, 2, 3, 4, 5, 6, 7, 8, 9, 10, 11, 12]\n",
    "\n",
    "# Defining the number of shark attacks in Mexico for each month\n",
    "mexico_counts = [8, 4, 6, 8, 10, 6, 10, 6, 7, 5, 7, 8]\n",
    "\n",
    "# Setting the size of the figure\n",
    "plt.figure(figsize=(10, 5))\n",
    "\n",
    "# Adding title and labels to the plot\n",
    "plt.title('Shark Attack Counts in Mexico by Month')\n",
    "plt.xlabel('Months')\n",
    "plt.ylabel('Number of Shark Attacks')\n",
    "\n",
    "# Creating a bar plot to show the number of shark attacks by month in Mexico\n",
    "plt.bar(months, mexico_counts, color='skyblue', edgecolor='black', label='Mexico')\n",
    "\n",
    "# Displaying the plot\n",
    "plt.show()\n"
   ]
  },
  {
   "cell_type": "code",
   "execution_count": 31,
   "id": "43060481-3882-42a5-8d61-b8d31174c137",
   "metadata": {},
   "outputs": [
    {
     "data": {
      "image/png": "[encoded data removed]",
      "text/plain": [
       "<Figure size 1000x500 with 1 Axes>"
      ]
     },
     "metadata": {},
     "output_type": "display_data"
    }
   ],
   "source": [
    "# Defining the months (1 for January, 2 for February, etc.)\n",
    "months = [1, 2, 3, 4, 5, 6, 7, 8, 9, 10, 11, 12]\n",
    "\n",
    "# Defining the number of shark attacks in Portugal for each month\n",
    "portugal_counts = [0, 0, 0, 0, 0, 1, 1, 1, 0, 0, 0, 1]\n",
    "\n",
    "# Setting the size of the figure\n",
    "plt.figure(figsize=(10, 5))\n",
    "\n",
    "# Adding title and labels to the plot\n",
    "plt.title('Shark Attack Counts in Portugal by Month')\n",
    "plt.xlabel('Months')\n",
    "plt.ylabel('Number of Shark Attacks')\n",
    "\n",
    "# Creating a bar plot to show the number of shark attacks by month in Portugal\n",
    "plt.bar(months, portugal_counts, color='skyblue', edgecolor='black', label='Portugal')\n",
    "\n",
    "# Displaying the plot\n",
    "plt.show()\n"
   ]
  },
  {
   "cell_type": "code",
   "execution_count": 32,
   "id": "4f72df82-6dfe-4dea-a87b-adaf6b3b96bf",
   "metadata": {},
   "outputs": [
    {
     "data": {
      "image/png": "[encoded data removed]",
      "text/plain": [
       "<Figure size 1000x500 with 1 Axes>"
      ]
     },
     "metadata": {},
     "output_type": "display_data"
    }
   ],
   "source": [
    "# Defining the months (1 for January, 2 for February, etc.)\n",
    "months = [1, 2, 3, 4, 5, 6, 7, 8, 9, 10, 11, 12]\n",
    "\n",
    "# Defining the number of shark attacks in South Africa for each month\n",
    "south_africa_counts = [125, 55, 51, 48, 39, 27, 37, 24, 22, 29, 37, 68]\n",
    "\n",
    "# Setting the size of the figure\n",
    "plt.figure(figsize=(10, 5))\n",
    "\n",
    "# Adding title and labels to the plot\n",
    "plt.title('Shark Attack Counts in South Africa by Month')\n",
    "plt.xlabel('Months')\n",
    "plt.ylabel('Number of Shark Attacks')\n",
    "\n",
    "# Creating a bar plot to show the number of shark attacks by month in South Africa\n",
    "plt.bar(months, south_africa_counts, color='skyblue', edgecolor='black', label='South Africa')\n",
    "\n",
    "# Displaying the plot\n",
    "plt.show()\n"
   ]
  },
  {
   "cell_type": "markdown",
   "id": "95496fca",
   "metadata": {},
   "source": [
    "Summary of Findings\n",
    "\n",
    "General Trends Across Countries:\n",
    "\n",
    "Australia had the highest number of shark attacks, with a noticeable peak in the summer months (December and January).\n",
    "In contrast, shark attacks in Portugal were extremely rare, with only a handful of incidents reported during the summer.\n",
    "Mexico showed a relatively steady number of shark attacks throughout the year, with slight increases in May and July.\n",
    "South Africa showed a significant spike in January and a steady decline through the winter months (June to August).\n",
    "\n",
    "Seasonality Observations:\n",
    "\n",
    "Shark attacks appear to be more frequent during the warmer months (December to February) in Australia and South Africa.\n",
    "This trend could be linked to higher human activity in the water during the summer holidays, leading to a greater chance of encounters.\n",
    "In Mexico, the attacks were more evenly distributed, suggesting less seasonality.\n",
    "\n",
    "Noteworthy Insights:\n",
    "\n",
    "The data shows that South Africa has a significant drop in shark attacks during the winter months (June to August).\n",
    "Portugal only had recorded attacks during the summer, indicating a strong correlation with warmer months.\n",
    "\n",
    "Limitations of the Data:\n",
    "\n",
    "Some of the data entries had missing or incorrect date information, which may impact the accuracy of the monthly analysis.\n",
    "The dataset is limited to reported attacks, so the actual number of shark encounters might be higher."
   ]
  },
  {
   "cell_type": "markdown",
   "id": "8612bd38",
   "metadata": {},
   "source": [
    "Conclusions and Recommendations\n",
    "\n",
    "Shark attacks tend to be more frequent during the warmer months, especially in Australia and South Africa.\n",
    "Public awareness campaigns could focus on the peak months to reduce incidents.\n",
    "Future research could explore correlations between shark activity and environmental factors such as water temperature or beach crowd levels."
   ]
  },
  {
   "cell_type": "markdown",
   "id": "51dc89f1",
   "metadata": {},
   "source": []
  }
 ],
 "metadata": {
  "kernelspec": {
   "display_name": "base",
   "language": "python",
   "name": "python3"
  },
  "language_info": {
   "codemirror_mode": {
    "name": "ipython",
    "version": 3
   },
   "file_extension": ".py",
   "mimetype": "text/x-python",
   "name": "python",
   "nbconvert_exporter": "python",
   "pygments_lexer": "ipython3",
   "version": "3.12.4"
  }
 },
 "nbformat": 4,
 "nbformat_minor": 5
}
