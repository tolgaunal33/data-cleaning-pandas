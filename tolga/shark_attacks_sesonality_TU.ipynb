{
 "cells": [
  {
   "cell_type": "code",
   "execution_count": 107,
   "id": "091a462d-4407-46a4-bb30-03ab1d4612ef",
   "metadata": {},
   "outputs": [
    {
     "name": "stdout",
     "output_type": "stream",
     "text": [
      "Requirement already satisfied: openpyxl in c:\\users\\tevfi\\anaconda3\\lib\\site-packages (3.1.2)\n",
      "Requirement already satisfied: et-xmlfile in c:\\users\\tevfi\\anaconda3\\lib\\site-packages (from openpyxl) (1.1.0)\n"
     ]
    }
   ],
   "source": [
    "!pip install openpyxl\n",
    "import pandas as pd \n",
    "import numpy as np\n",
    "import matplotlib.pyplot as plt"
   ]
  },
  {
   "cell_type": "code",
   "execution_count": 108,
   "id": "2cf44bed-2acd-4f22-8022-c2e0308d0a6c",
   "metadata": {},
   "outputs": [
    {
     "data": {
      "text/html": [
       "<div>\n",
       "<style scoped>\n",
       "    .dataframe tbody tr th:only-of-type {\n",
       "        vertical-align: middle;\n",
       "    }\n",
       "\n",
       "    .dataframe tbody tr th {\n",
       "        vertical-align: top;\n",
       "    }\n",
       "\n",
       "    .dataframe thead th {\n",
       "        text-align: right;\n",
       "    }\n",
       "</style>\n",
       "<table border=\"1\" class=\"dataframe\">\n",
       "  <thead>\n",
       "    <tr style=\"text-align: right;\">\n",
       "      <th></th>\n",
       "      <th>Date</th>\n",
       "      <th>Year</th>\n",
       "      <th>Type</th>\n",
       "      <th>Country</th>\n",
       "      <th>State</th>\n",
       "      <th>Location</th>\n",
       "      <th>Activity</th>\n",
       "      <th>Name</th>\n",
       "      <th>Sex</th>\n",
       "      <th>Age</th>\n",
       "      <th>...</th>\n",
       "      <th>Species</th>\n",
       "      <th>Source</th>\n",
       "      <th>pdf</th>\n",
       "      <th>href formula</th>\n",
       "      <th>href</th>\n",
       "      <th>Case Number</th>\n",
       "      <th>Case Number.1</th>\n",
       "      <th>original order</th>\n",
       "      <th>Unnamed: 21</th>\n",
       "      <th>Unnamed: 22</th>\n",
       "    </tr>\n",
       "  </thead>\n",
       "  <tbody>\n",
       "    <tr>\n",
       "      <th>0</th>\n",
       "      <td>NaN</td>\n",
       "      <td>NaN</td>\n",
       "      <td>NaN</td>\n",
       "      <td>NaN</td>\n",
       "      <td>NaN</td>\n",
       "      <td>NaN</td>\n",
       "      <td>NaN</td>\n",
       "      <td>NaN</td>\n",
       "      <td>NaN</td>\n",
       "      <td>NaN</td>\n",
       "      <td>...</td>\n",
       "      <td>NaN</td>\n",
       "      <td>NaN</td>\n",
       "      <td>NaN</td>\n",
       "      <td>NaN</td>\n",
       "      <td>NaN</td>\n",
       "      <td>NaN</td>\n",
       "      <td>NaN</td>\n",
       "      <td>NaN</td>\n",
       "      <td>NaN</td>\n",
       "      <td>NaN</td>\n",
       "    </tr>\n",
       "    <tr>\n",
       "      <th>1</th>\n",
       "      <td>2024-11-01 00:00:00</td>\n",
       "      <td>2024.0</td>\n",
       "      <td>Unprovoked</td>\n",
       "      <td>Hawaii</td>\n",
       "      <td>Maui</td>\n",
       "      <td>Sand Piles Waiehu Beach Park</td>\n",
       "      <td>Surfing</td>\n",
       "      <td>Kenji</td>\n",
       "      <td>M</td>\n",
       "      <td>61</td>\n",
       "      <td>...</td>\n",
       "      <td>Not stated</td>\n",
       "      <td>Glen Folkard: Independent: Fox News: Sky News ...</td>\n",
       "      <td>NaN</td>\n",
       "      <td>NaN</td>\n",
       "      <td>NaN</td>\n",
       "      <td>NaN</td>\n",
       "      <td>NaN</td>\n",
       "      <td>NaN</td>\n",
       "      <td>NaN</td>\n",
       "      <td>NaN</td>\n",
       "    </tr>\n",
       "    <tr>\n",
       "      <th>2</th>\n",
       "      <td>2024-10-31 00:00:00</td>\n",
       "      <td>2024.0</td>\n",
       "      <td>Unprovoked</td>\n",
       "      <td>Australia</td>\n",
       "      <td>Queensland</td>\n",
       "      <td>Whitsunday Islands</td>\n",
       "      <td>Snorkeling</td>\n",
       "      <td>Not stated</td>\n",
       "      <td>F</td>\n",
       "      <td>57</td>\n",
       "      <td>...</td>\n",
       "      <td>Reported as a large Tiger shark</td>\n",
       "      <td>Simon de Marchi: 9 News: 7 News: ABC News:</td>\n",
       "      <td>NaN</td>\n",
       "      <td>NaN</td>\n",
       "      <td>NaN</td>\n",
       "      <td>NaN</td>\n",
       "      <td>NaN</td>\n",
       "      <td>NaN</td>\n",
       "      <td>NaN</td>\n",
       "      <td>NaN</td>\n",
       "    </tr>\n",
       "    <tr>\n",
       "      <th>3</th>\n",
       "      <td>2024-10-25 00:00:00</td>\n",
       "      <td>2024.0</td>\n",
       "      <td>Unprovoked</td>\n",
       "      <td>USA</td>\n",
       "      <td>Florida</td>\n",
       "      <td>Bathtub Beach, Martin County</td>\n",
       "      <td>Surfing</td>\n",
       "      <td>Cole Taschman</td>\n",
       "      <td>M</td>\n",
       "      <td>27</td>\n",
       "      <td>...</td>\n",
       "      <td>Bull or tiger 7-8ft</td>\n",
       "      <td>Bob Myatt: Yardbarker: 12 on your side: WPTV: ...</td>\n",
       "      <td>NaN</td>\n",
       "      <td>NaN</td>\n",
       "      <td>NaN</td>\n",
       "      <td>NaN</td>\n",
       "      <td>NaN</td>\n",
       "      <td>NaN</td>\n",
       "      <td>NaN</td>\n",
       "      <td>NaN</td>\n",
       "    </tr>\n",
       "    <tr>\n",
       "      <th>4</th>\n",
       "      <td>2024-10-14 00:00:00</td>\n",
       "      <td>2024.0</td>\n",
       "      <td>Unprovoked</td>\n",
       "      <td>Honduras</td>\n",
       "      <td>Tela</td>\n",
       "      <td>Atlantida</td>\n",
       "      <td>Swimming</td>\n",
       "      <td>Roberto Carlose Bu Mejia</td>\n",
       "      <td>M</td>\n",
       "      <td>38</td>\n",
       "      <td>...</td>\n",
       "      <td>Bull shark</td>\n",
       "      <td>Georgienne Bradley: Daily Mail UK: FTN News.com</td>\n",
       "      <td>NaN</td>\n",
       "      <td>NaN</td>\n",
       "      <td>NaN</td>\n",
       "      <td>NaN</td>\n",
       "      <td>NaN</td>\n",
       "      <td>NaN</td>\n",
       "      <td>NaN</td>\n",
       "      <td>NaN</td>\n",
       "    </tr>\n",
       "  </tbody>\n",
       "</table>\n",
       "<p>5 rows × 23 columns</p>\n",
       "</div>"
      ],
      "text/plain": [
       "                  Date    Year        Type    Country       State  \\\n",
       "0                  NaN     NaN         NaN        NaN         NaN   \n",
       "1  2024-11-01 00:00:00  2024.0  Unprovoked     Hawaii        Maui   \n",
       "2  2024-10-31 00:00:00  2024.0  Unprovoked  Australia  Queensland   \n",
       "3  2024-10-25 00:00:00  2024.0  Unprovoked        USA     Florida   \n",
       "4  2024-10-14 00:00:00  2024.0  Unprovoked   Honduras        Tela   \n",
       "\n",
       "                       Location    Activity                      Name  Sex  \\\n",
       "0                           NaN         NaN                       NaN  NaN   \n",
       "1  Sand Piles Waiehu Beach Park     Surfing                     Kenji    M   \n",
       "2            Whitsunday Islands  Snorkeling                Not stated    F   \n",
       "3  Bathtub Beach, Martin County     Surfing             Cole Taschman    M   \n",
       "4                     Atlantida    Swimming  Roberto Carlose Bu Mejia    M   \n",
       "\n",
       "   Age  ...                         Species   \\\n",
       "0  NaN  ...                              NaN   \n",
       "1   61  ...                       Not stated   \n",
       "2   57  ...  Reported as a large Tiger shark   \n",
       "3   27  ...              Bull or tiger 7-8ft   \n",
       "4   38  ...                       Bull shark   \n",
       "\n",
       "                                              Source  pdf href formula href  \\\n",
       "0                                                NaN  NaN          NaN  NaN   \n",
       "1  Glen Folkard: Independent: Fox News: Sky News ...  NaN          NaN  NaN   \n",
       "2         Simon de Marchi: 9 News: 7 News: ABC News:  NaN          NaN  NaN   \n",
       "3  Bob Myatt: Yardbarker: 12 on your side: WPTV: ...  NaN          NaN  NaN   \n",
       "4    Georgienne Bradley: Daily Mail UK: FTN News.com  NaN          NaN  NaN   \n",
       "\n",
       "  Case Number Case Number.1 original order Unnamed: 21 Unnamed: 22  \n",
       "0         NaN           NaN            NaN         NaN         NaN  \n",
       "1         NaN           NaN            NaN         NaN         NaN  \n",
       "2         NaN           NaN            NaN         NaN         NaN  \n",
       "3         NaN           NaN            NaN         NaN         NaN  \n",
       "4         NaN           NaN            NaN         NaN         NaN  \n",
       "\n",
       "[5 rows x 23 columns]"
      ]
     },
     "execution_count": 108,
     "metadata": {},
     "output_type": "execute_result"
    }
   ],
   "source": [
    "file_path = r'C:\\Users\\tevfi\\Desktop\\Ironhack\\miniproject2\\GSAF5.xls'\n",
    "shark_attacks_df = pd.read_excel(file_path)\n",
    "\n",
    "shark_attacks_df.head()"
   ]
  },
  {
   "cell_type": "code",
   "execution_count": 109,
   "id": "43213c64-fe03-4e65-8aba-60bde9fb88cd",
   "metadata": {},
   "outputs": [],
   "source": [
    "shark_attacks_df.drop(['Unnamed: 21', 'Unnamed: 22', 'Unnamed: 11', 'href', 'href formula', 'pdf', 'original order', 'Case Number.1', 'Case Number'], axis=1, inplace=True)"
   ]
  },
  {
   "cell_type": "code",
   "execution_count": 110,
   "id": "859e0e9d-1c7c-4e6c-86ac-91a1684ee5d8",
   "metadata": {},
   "outputs": [
    {
     "data": {
      "text/plain": [
       "Index(['Date', 'Year', 'Type', 'Country', 'State', 'Location', 'Activity',\n",
       "       'Name', 'Sex', 'Age', 'Injury', 'Time', 'Species ', 'Source'],\n",
       "      dtype='object')"
      ]
     },
     "execution_count": 110,
     "metadata": {},
     "output_type": "execute_result"
    }
   ],
   "source": [
    "shark_attacks_df.columns"
   ]
  },
  {
   "cell_type": "code",
   "execution_count": 111,
   "id": "a4110544-e2a9-4cb7-ba53-fb4a355ab551",
   "metadata": {},
   "outputs": [
    {
     "data": {
      "text/plain": [
       "1267     21-Sep-2013\n",
       "2334     28-Mar-2004\n",
       "6738     17-Nov-1839\n",
       "6708     19-Jul-1847\n",
       "2410        Jul-2003\n",
       "5549     23-Feb-1936\n",
       "2420     25-May-2003\n",
       "3910     02-Sep-1974\n",
       "2561     27-Aug-2001\n",
       "40       09-Jan-2024\n",
       "Name: Date, dtype: object"
      ]
     },
     "execution_count": 111,
     "metadata": {},
     "output_type": "execute_result"
    }
   ],
   "source": [
    "shark_attacks_df['Date'].sample(10) # Looking at a sample of the date data to assess its format"
   ]
  },
  {
   "cell_type": "code",
   "execution_count": 112,
   "id": "2c5e00a5-abba-483d-b792-3555fa42f964",
   "metadata": {},
   "outputs": [
    {
     "data": {
      "text/plain": [
       "0             NaT\n",
       "1      2024-11-01\n",
       "2      2024-10-31\n",
       "3      2024-10-25\n",
       "4      2024-10-14\n",
       "          ...    \n",
       "6972          NaT\n",
       "6973          NaT\n",
       "6974          NaT\n",
       "6975          NaT\n",
       "6976          NaT\n",
       "Name: Date, Length: 6977, dtype: datetime64[ns]"
      ]
     },
     "metadata": {},
     "output_type": "display_data"
    }
   ],
   "source": [
    "shark_attacks_df['Date'] = pd.to_datetime(shark_attacks_df['Date'], errors='coerce') # Attempt conversion to datetime format\n",
    "\n",
    "display(shark_attacks_df['Date'])"
   ]
  },
  {
   "cell_type": "code",
   "execution_count": 113,
   "id": "258de014-fdae-4c09-9b5f-414248e6d592",
   "metadata": {},
   "outputs": [
    {
     "data": {
      "text/plain": [
       "3943   1973-12-21\n",
       "6299   1895-08-11\n",
       "4037   1970-12-03\n",
       "1693   2010-02-01\n",
       "3587   1983-06-22\n",
       "1080   2015-06-24\n",
       "761    2017-07-20\n",
       "367    2020-11-23\n",
       "3705   1980-11-18\n",
       "6388   1888-12-09\n",
       "Name: Date, dtype: datetime64[ns]"
      ]
     },
     "execution_count": 113,
     "metadata": {},
     "output_type": "execute_result"
    }
   ],
   "source": [
    "shark_attacks_df['Date'].sample(10)  # Inspect a sample to confirm the format"
   ]
  },
  {
   "cell_type": "code",
   "execution_count": 114,
   "id": "0602e70a-ea5c-4d34-a711-ccc54ecc2d13",
   "metadata": {},
   "outputs": [
    {
     "name": "stdout",
     "output_type": "stream",
     "text": [
      "5168\n"
     ]
    }
   ],
   "source": [
    "date_count = shark_attacks_df['Date'].nunique()\n",
    "print(date_count)"
   ]
  },
  {
   "cell_type": "code",
   "execution_count": 115,
   "id": "0d3324f0-bd54-4407-a5cd-ed48800ef908",
   "metadata": {},
   "outputs": [
    {
     "name": "stdout",
     "output_type": "stream",
     "text": [
      "876\n"
     ]
    }
   ],
   "source": [
    "null_date_count = shark_attacks_df['Date'].isnull().sum()  # Count any missing values created in the conversion\n",
    "print(null_date_count)"
   ]
  },
  {
   "cell_type": "code",
   "execution_count": 116,
   "id": "96ae38fa-665d-464a-a68f-88682b965045",
   "metadata": {},
   "outputs": [],
   "source": [
    "# For a seasonality-focused analysis, dropping rows with null dates is likely the best approach\n",
    "shark_attacks_df = shark_attacks_df.dropna(subset=['Date'])"
   ]
  },
  {
   "cell_type": "code",
   "execution_count": 117,
   "id": "b4d0205a-48ab-4a06-acb5-b8e69010d886",
   "metadata": {},
   "outputs": [
    {
     "data": {
      "text/plain": [
       "(6101, 14)"
      ]
     },
     "execution_count": 117,
     "metadata": {},
     "output_type": "execute_result"
    }
   ],
   "source": [
    "shark_attacks_df.shape "
   ]
  },
  {
   "cell_type": "code",
   "execution_count": 118,
   "id": "b2af4b31-449c-4526-a155-382a9611cf04",
   "metadata": {},
   "outputs": [
    {
     "data": {
      "text/plain": [
       "0"
      ]
     },
     "execution_count": 118,
     "metadata": {},
     "output_type": "execute_result"
    }
   ],
   "source": [
    "shark_attacks_df['Date'].isnull().sum() # Confirm the dataset update"
   ]
  },
  {
   "cell_type": "code",
   "execution_count": 119,
   "id": "c77ca14a-b2b6-4736-afbd-a4a2621bfcc1",
   "metadata": {},
   "outputs": [],
   "source": [
    "# Extract the Month from the Date Column\n",
    "shark_attacks_df['Month'] = shark_attacks_df['Date'].dt.month "
   ]
  },
  {
   "cell_type": "code",
   "execution_count": 120,
   "id": "fe54366d-5be4-410a-847a-abe5d2f064d3",
   "metadata": {},
   "outputs": [
    {
     "data": {
      "text/html": [
       "<div>\n",
       "<style scoped>\n",
       "    .dataframe tbody tr th:only-of-type {\n",
       "        vertical-align: middle;\n",
       "    }\n",
       "\n",
       "    .dataframe tbody tr th {\n",
       "        vertical-align: top;\n",
       "    }\n",
       "\n",
       "    .dataframe thead th {\n",
       "        text-align: right;\n",
       "    }\n",
       "</style>\n",
       "<table border=\"1\" class=\"dataframe\">\n",
       "  <thead>\n",
       "    <tr style=\"text-align: right;\">\n",
       "      <th></th>\n",
       "      <th>Date</th>\n",
       "      <th>Year</th>\n",
       "      <th>Type</th>\n",
       "      <th>Country</th>\n",
       "      <th>State</th>\n",
       "      <th>Location</th>\n",
       "      <th>Activity</th>\n",
       "      <th>Name</th>\n",
       "      <th>Sex</th>\n",
       "      <th>Age</th>\n",
       "      <th>Injury</th>\n",
       "      <th>Time</th>\n",
       "      <th>Species</th>\n",
       "      <th>Source</th>\n",
       "      <th>Month</th>\n",
       "    </tr>\n",
       "  </thead>\n",
       "  <tbody>\n",
       "    <tr>\n",
       "      <th>1</th>\n",
       "      <td>2024-11-01</td>\n",
       "      <td>2024.0</td>\n",
       "      <td>Unprovoked</td>\n",
       "      <td>Hawaii</td>\n",
       "      <td>Maui</td>\n",
       "      <td>Sand Piles Waiehu Beach Park</td>\n",
       "      <td>Surfing</td>\n",
       "      <td>Kenji</td>\n",
       "      <td>M</td>\n",
       "      <td>61</td>\n",
       "      <td>Right leg severted below knee</td>\n",
       "      <td>?</td>\n",
       "      <td>Not stated</td>\n",
       "      <td>Glen Folkard: Independent: Fox News: Sky News ...</td>\n",
       "      <td>11</td>\n",
       "    </tr>\n",
       "    <tr>\n",
       "      <th>2</th>\n",
       "      <td>2024-10-31</td>\n",
       "      <td>2024.0</td>\n",
       "      <td>Unprovoked</td>\n",
       "      <td>Australia</td>\n",
       "      <td>Queensland</td>\n",
       "      <td>Whitsunday Islands</td>\n",
       "      <td>Snorkeling</td>\n",
       "      <td>Not stated</td>\n",
       "      <td>F</td>\n",
       "      <td>57</td>\n",
       "      <td>30cm (1ft) bite to lower calf</td>\n",
       "      <td>16.30hrs</td>\n",
       "      <td>Reported as a large Tiger shark</td>\n",
       "      <td>Simon de Marchi: 9 News: 7 News: ABC News:</td>\n",
       "      <td>10</td>\n",
       "    </tr>\n",
       "    <tr>\n",
       "      <th>3</th>\n",
       "      <td>2024-10-25</td>\n",
       "      <td>2024.0</td>\n",
       "      <td>Unprovoked</td>\n",
       "      <td>USA</td>\n",
       "      <td>Florida</td>\n",
       "      <td>Bathtub Beach, Martin County</td>\n",
       "      <td>Surfing</td>\n",
       "      <td>Cole Taschman</td>\n",
       "      <td>M</td>\n",
       "      <td>27</td>\n",
       "      <td>Both feet bitten</td>\n",
       "      <td>AM</td>\n",
       "      <td>Bull or tiger 7-8ft</td>\n",
       "      <td>Bob Myatt: Yardbarker: 12 on your side: WPTV: ...</td>\n",
       "      <td>10</td>\n",
       "    </tr>\n",
       "    <tr>\n",
       "      <th>4</th>\n",
       "      <td>2024-10-14</td>\n",
       "      <td>2024.0</td>\n",
       "      <td>Unprovoked</td>\n",
       "      <td>Honduras</td>\n",
       "      <td>Tela</td>\n",
       "      <td>Atlantida</td>\n",
       "      <td>Swimming</td>\n",
       "      <td>Roberto Carlose Bu Mejia</td>\n",
       "      <td>M</td>\n",
       "      <td>38</td>\n",
       "      <td>Back and thigh extensive tissue loss</td>\n",
       "      <td>?</td>\n",
       "      <td>Bull shark</td>\n",
       "      <td>Georgienne Bradley: Daily Mail UK: FTN News.com</td>\n",
       "      <td>10</td>\n",
       "    </tr>\n",
       "    <tr>\n",
       "      <th>5</th>\n",
       "      <td>2024-10-11</td>\n",
       "      <td>2024.0</td>\n",
       "      <td>Unprovoked</td>\n",
       "      <td>USA</td>\n",
       "      <td>Florida</td>\n",
       "      <td>Brevard County Orlando</td>\n",
       "      <td>Surfing</td>\n",
       "      <td>Teddy Witteman</td>\n",
       "      <td>M</td>\n",
       "      <td>16</td>\n",
       "      <td>Bite to left arm</td>\n",
       "      <td>?</td>\n",
       "      <td>Bull shark 6ft</td>\n",
       "      <td>Todd SmithFlorida today: News 4:</td>\n",
       "      <td>10</td>\n",
       "    </tr>\n",
       "  </tbody>\n",
       "</table>\n",
       "</div>"
      ],
      "text/plain": [
       "        Date    Year        Type    Country       State  \\\n",
       "1 2024-11-01  2024.0  Unprovoked     Hawaii        Maui   \n",
       "2 2024-10-31  2024.0  Unprovoked  Australia  Queensland   \n",
       "3 2024-10-25  2024.0  Unprovoked        USA     Florida   \n",
       "4 2024-10-14  2024.0  Unprovoked   Honduras        Tela   \n",
       "5 2024-10-11  2024.0  Unprovoked        USA     Florida   \n",
       "\n",
       "                       Location    Activity                      Name Sex Age  \\\n",
       "1  Sand Piles Waiehu Beach Park     Surfing                     Kenji   M  61   \n",
       "2            Whitsunday Islands  Snorkeling                Not stated   F  57   \n",
       "3  Bathtub Beach, Martin County     Surfing             Cole Taschman   M  27   \n",
       "4                     Atlantida    Swimming  Roberto Carlose Bu Mejia   M  38   \n",
       "5        Brevard County Orlando     Surfing            Teddy Witteman   M  16   \n",
       "\n",
       "                                 Injury      Time  \\\n",
       "1         Right leg severted below knee         ?   \n",
       "2        30cm (1ft) bite to lower calf   16.30hrs   \n",
       "3                      Both feet bitten        AM   \n",
       "4  Back and thigh extensive tissue loss         ?   \n",
       "5                      Bite to left arm         ?   \n",
       "\n",
       "                          Species   \\\n",
       "1                       Not stated   \n",
       "2  Reported as a large Tiger shark   \n",
       "3              Bull or tiger 7-8ft   \n",
       "4                       Bull shark   \n",
       "5                   Bull shark 6ft   \n",
       "\n",
       "                                              Source  Month  \n",
       "1  Glen Folkard: Independent: Fox News: Sky News ...     11  \n",
       "2         Simon de Marchi: 9 News: 7 News: ABC News:     10  \n",
       "3  Bob Myatt: Yardbarker: 12 on your side: WPTV: ...     10  \n",
       "4    Georgienne Bradley: Daily Mail UK: FTN News.com     10  \n",
       "5                   Todd SmithFlorida today: News 4:     10  "
      ]
     },
     "execution_count": 120,
     "metadata": {},
     "output_type": "execute_result"
    }
   ],
   "source": [
    "shark_attacks_df.head()"
   ]
  },
  {
   "cell_type": "code",
   "execution_count": 121,
   "id": "1cfdf6f4-a687-48dc-9be2-fcb1b471fabe",
   "metadata": {},
   "outputs": [
    {
     "data": {
      "text/plain": [
       "Month\n",
       "1     798\n",
       "2     380\n",
       "3     420\n",
       "4     449\n",
       "5     413\n",
       "6     491\n",
       "7     696\n",
       "8     602\n",
       "9     542\n",
       "10    458\n",
       "11    412\n",
       "12    440\n",
       "Name: count, dtype: int64"
      ]
     },
     "execution_count": 121,
     "metadata": {},
     "output_type": "execute_result"
    }
   ],
   "source": [
    "# Group by Month and count the occurrences\n",
    "month_counts = shark_attacks_df['Month'].value_counts().sort_index()\n",
    "month_counts"
   ]
  },
  {
   "cell_type": "code",
   "execution_count": 122,
   "id": "b70c1436-efc4-49b4-9b7b-022f75f0a026",
   "metadata": {},
   "outputs": [
    {
     "name": "stdout",
     "output_type": "stream",
     "text": [
      "Country    28\n",
      "Month       0\n",
      "dtype: int64\n"
     ]
    }
   ],
   "source": [
    "print(shark_attacks_df[['Country', 'Month']].isnull().sum())"
   ]
  },
  {
   "cell_type": "code",
   "execution_count": 123,
   "id": "1d9bcc89-0af4-431d-803f-5f54cedfc3e3",
   "metadata": {},
   "outputs": [],
   "source": [
    "shark_attacks_df.dropna(subset=['Country'], inplace=True)"
   ]
  },
  {
   "cell_type": "code",
   "execution_count": 124,
   "id": "cf599f10-ab0a-42ab-9cd5-25767aee1f8d",
   "metadata": {},
   "outputs": [],
   "source": [
    "shark_attacks_df['Country'] = shark_attacks_df['Country'].str.strip().str.title() # Standardize country names"
   ]
  },
  {
   "cell_type": "code",
   "execution_count": 125,
   "id": "bb7f53c9-ad7e-44d6-9fdd-947afe228a31",
   "metadata": {},
   "outputs": [
    {
     "name": "stdout",
     "output_type": "stream",
     "text": [
      "Country\n",
      "Australia       1320\n",
      "Mexico            85\n",
      "South Africa     562\n",
      "Portugal           4\n",
      "Name: count, dtype: int64\n"
     ]
    }
   ],
   "source": [
    "country_count = shark_attacks_df[\"Country\"].value_counts()\n",
    "selected_countries = country_count[countries_to_analyze]\n",
    "print(selected_countries)"
   ]
  },
  {
   "cell_type": "code",
   "execution_count": 126,
   "id": "a65cc09c-76a6-407a-984d-2f5f19cbd55d",
   "metadata": {},
   "outputs": [
    {
     "data": {
      "text/html": [
       "<div>\n",
       "<style scoped>\n",
       "    .dataframe tbody tr th:only-of-type {\n",
       "        vertical-align: middle;\n",
       "    }\n",
       "\n",
       "    .dataframe tbody tr th {\n",
       "        vertical-align: top;\n",
       "    }\n",
       "\n",
       "    .dataframe thead th {\n",
       "        text-align: right;\n",
       "    }\n",
       "</style>\n",
       "<table border=\"1\" class=\"dataframe\">\n",
       "  <thead>\n",
       "    <tr style=\"text-align: right;\">\n",
       "      <th>Month</th>\n",
       "      <th>1</th>\n",
       "      <th>2</th>\n",
       "      <th>3</th>\n",
       "      <th>4</th>\n",
       "      <th>5</th>\n",
       "      <th>6</th>\n",
       "      <th>7</th>\n",
       "      <th>8</th>\n",
       "      <th>9</th>\n",
       "      <th>10</th>\n",
       "      <th>11</th>\n",
       "      <th>12</th>\n",
       "    </tr>\n",
       "    <tr>\n",
       "      <th>Country</th>\n",
       "      <th></th>\n",
       "      <th></th>\n",
       "      <th></th>\n",
       "      <th></th>\n",
       "      <th></th>\n",
       "      <th></th>\n",
       "      <th></th>\n",
       "      <th></th>\n",
       "      <th></th>\n",
       "      <th></th>\n",
       "      <th></th>\n",
       "      <th></th>\n",
       "    </tr>\n",
       "  </thead>\n",
       "  <tbody>\n",
       "    <tr>\n",
       "      <th>Australia</th>\n",
       "      <td>235</td>\n",
       "      <td>146</td>\n",
       "      <td>127</td>\n",
       "      <td>108</td>\n",
       "      <td>59</td>\n",
       "      <td>61</td>\n",
       "      <td>51</td>\n",
       "      <td>54</td>\n",
       "      <td>60</td>\n",
       "      <td>99</td>\n",
       "      <td>141</td>\n",
       "      <td>179</td>\n",
       "    </tr>\n",
       "    <tr>\n",
       "      <th>Mexico</th>\n",
       "      <td>8</td>\n",
       "      <td>4</td>\n",
       "      <td>6</td>\n",
       "      <td>8</td>\n",
       "      <td>10</td>\n",
       "      <td>6</td>\n",
       "      <td>10</td>\n",
       "      <td>6</td>\n",
       "      <td>7</td>\n",
       "      <td>5</td>\n",
       "      <td>7</td>\n",
       "      <td>8</td>\n",
       "    </tr>\n",
       "    <tr>\n",
       "      <th>Portugal</th>\n",
       "      <td>0</td>\n",
       "      <td>0</td>\n",
       "      <td>0</td>\n",
       "      <td>0</td>\n",
       "      <td>0</td>\n",
       "      <td>1</td>\n",
       "      <td>1</td>\n",
       "      <td>1</td>\n",
       "      <td>0</td>\n",
       "      <td>0</td>\n",
       "      <td>0</td>\n",
       "      <td>1</td>\n",
       "    </tr>\n",
       "    <tr>\n",
       "      <th>South Africa</th>\n",
       "      <td>125</td>\n",
       "      <td>55</td>\n",
       "      <td>51</td>\n",
       "      <td>48</td>\n",
       "      <td>39</td>\n",
       "      <td>27</td>\n",
       "      <td>37</td>\n",
       "      <td>24</td>\n",
       "      <td>22</td>\n",
       "      <td>29</td>\n",
       "      <td>37</td>\n",
       "      <td>68</td>\n",
       "    </tr>\n",
       "  </tbody>\n",
       "</table>\n",
       "</div>"
      ],
      "text/plain": [
       "Month          1    2    3    4   5   6   7   8   9   10   11   12\n",
       "Country                                                           \n",
       "Australia     235  146  127  108  59  61  51  54  60  99  141  179\n",
       "Mexico          8    4    6    8  10   6  10   6   7   5    7    8\n",
       "Portugal        0    0    0    0   0   1   1   1   0   0    0    1\n",
       "South Africa  125   55   51   48  39  27  37  24  22  29   37   68"
      ]
     },
     "execution_count": 126,
     "metadata": {},
     "output_type": "execute_result"
    }
   ],
   "source": [
    "countries_to_analyze = ['Australia', 'Mexico', 'South Africa', 'Portugal']\n",
    "\n",
    "shark_attacks_df_filtered = shark_attacks_df[shark_attacks_df['Country'].isin(countries_to_analyze)] # filtering to show only rows where the country is either \"Australia,\" \"Mexico,\" \"Portugal,\" or \"South Africa.\"\n",
    "\n",
    "monthly_counts = shark_attacks_df_filtered.groupby(['Country', 'Month']).size().unstack(fill_value=0)\n",
    "monthly_counts"
   ]
  },
  {
   "cell_type": "code",
   "execution_count": null,
   "id": "4f6a47a3-aedb-4599-a673-80d5b9b8d72d",
   "metadata": {},
   "outputs": [],
   "source": [
    "#creating the grafics bar plot "
   ]
  },
  {
   "cell_type": "code",
   "execution_count": 148,
   "id": "79ee27af-8916-445a-9e92-5d55cf4879b8",
   "metadata": {},
   "outputs": [],
   "source": [
    "import seaborn"
   ]
  },
  {
   "cell_type": "code",
   "execution_count": 168,
   "id": "6cfac718-d864-4488-ba42-69c390f142b2",
   "metadata": {},
   "outputs": [
    {
     "data": {
      "image/png": "[encoded data removed]",
      "text/plain": [
       "<Figure size 500x400 with 1 Axes>"
      ]
     },
     "metadata": {},
     "output_type": "display_data"
    }
   ],
   "source": [
    "plt.figure(figsize=(5, 4))\n",
    "months = [1, 2, 3, 4, 5, 6, 7, 8, 9, 10, 11, 12]   # X positions for each month\n",
    "australia_counts = [235, 146, 127, 108, 59, 61, 51, 54, 60, 99, 141, 179]   # Heights of bars for Australia\n",
    "plt.bar(months, australia_counts, color='blue', label='Australia')\n",
    "plt.show()"
   ]
  },
  {
   "cell_type": "code",
   "execution_count": 170,
   "id": "998df901-d245-41d1-8418-d6ef43a76296",
   "metadata": {},
   "outputs": [
    {
     "data": {
      "image/png": "[encoded data removed]",
      "text/plain": [
       "<Figure size 500x400 with 1 Axes>"
      ]
     },
     "metadata": {},
     "output_type": "display_data"
    }
   ],
   "source": [
    "plt.figure(figsize=(5, 4))\n",
    "months = [1, 2, 3, 4, 5, 6, 7, 8, 9, 10, 11, 12] \n",
    "mexico_counts = [8,\t4,\t6,\t8,\t10,\t6,\t10,\t6,\t7,\t5,\t7,\t8]\n",
    "plt.bar(months, mexico_counts, color='red', label='Mexico')\n",
    "plt.show()\n",
    "    "
   ]
  },
  {
   "cell_type": "code",
   "execution_count": 172,
   "id": "43060481-3882-42a5-8d61-b8d31174c137",
   "metadata": {},
   "outputs": [
    {
     "data": {
      "image/png": "[encoded data removed]",
      "text/plain": [
       "<Figure size 500x400 with 1 Axes>"
      ]
     },
     "metadata": {},
     "output_type": "display_data"
    }
   ],
   "source": [
    "plt.figure(figsize=(5, 4))\n",
    "months = [1, 2, 3, 4, 5, 6, 7, 8, 9, 10, 11, 12] \n",
    "portugal_counts = [0, 0, 0,\t0,\t0,\t1,\t1,\t1,\t0,\t0,\t0,\t1]\n",
    "plt.bar(months, portugal_counts, color='green', label='Portugal')\n",
    "plt.show()"
   ]
  },
  {
   "cell_type": "code",
   "execution_count": 174,
   "id": "4f72df82-6dfe-4dea-a87b-adaf6b3b96bf",
   "metadata": {},
   "outputs": [
    {
     "data": {
      "image/png": "[encoded data removed]",
      "text/plain": [
       "<Figure size 500x400 with 1 Axes>"
      ]
     },
     "metadata": {},
     "output_type": "display_data"
    }
   ],
   "source": [
    "plt.figure(figsize=(5, 4))\n",
    "months = [1, 2, 3, 4, 5, 6, 7, 8, 9, 10, 11, 12] \n",
    "south_africa_counts = [125,\t55,\t51,\t48,\t39,\t27,\t37,\t24,\t22,\t29,\t37,\t68]\n",
    "plt.bar(months, south_africa_counts, color='black', label='South Africa')\n",
    "plt.show()"
   ]
  },
  {
   "cell_type": "code",
   "execution_count": null,
   "id": "9904c67e-883c-4d97-b254-5422bca453a8",
   "metadata": {},
   "outputs": [],
   "source": []
  }
 ],
 "metadata": {
  "kernelspec": {
   "display_name": "Python 3 (ipykernel)",
   "language": "python",
   "name": "python3"
  },
  "language_info": {
   "codemirror_mode": {
    "name": "ipython",
    "version": 3
   },
   "file_extension": ".py",
   "mimetype": "text/x-python",
   "name": "python",
   "nbconvert_exporter": "python",
   "pygments_lexer": "ipython3",
   "version": "3.12.4"
  }
 },
 "nbformat": 4,
 "nbformat_minor": 5
}
