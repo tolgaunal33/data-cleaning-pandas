{
 "cells": [
  {
   "cell_type": "code",
   "execution_count": 2,
   "id": "62d0843f-0c1a-451b-927a-0c47132ac510",
   "metadata": {},
   "outputs": [
    {
     "name": "stdout",
     "output_type": "stream",
     "text": [
      "Requirement already satisfied: openpyxl in /opt/anaconda3/lib/python3.12/site-packages (3.1.2)\n",
      "Requirement already satisfied: et-xmlfile in /opt/anaconda3/lib/python3.12/site-packages (from openpyxl) (1.1.0)\n",
      "Note: you may need to restart the kernel to use updated packages.\n"
     ]
    }
   ],
   "source": [
    "pip install openpyxl\n"
   ]
  },
  {
   "cell_type": "code",
   "execution_count": 3,
   "id": "0e3b5f33-c456-4319-afbe-024951f52385",
   "metadata": {
    "scrolled": true
   },
   "outputs": [
    {
     "ename": "FileNotFoundError",
     "evalue": "[Errno 2] No such file or directory: '/Users/cha/Documents/Ironhack2/UNIT 2/Document - Shark Attacks/GSAF5.xls'",
     "output_type": "error",
     "traceback": [
      "\u001b[0;31m---------------------------------------------------------------------------\u001b[0m",
      "\u001b[0;31mFileNotFoundError\u001b[0m                         Traceback (most recent call last)",
      "Cell \u001b[0;32mIn[3], line 6\u001b[0m\n\u001b[1;32m      2\u001b[0m \u001b[38;5;28;01mimport\u001b[39;00m \u001b[38;5;21;01mnumpy\u001b[39;00m \u001b[38;5;28;01mas\u001b[39;00m \u001b[38;5;21;01mnp\u001b[39;00m \n\u001b[1;32m      3\u001b[0m \u001b[38;5;28;01mimport\u001b[39;00m \u001b[38;5;21;01mmatplotlib\u001b[39;00m\u001b[38;5;21;01m.\u001b[39;00m\u001b[38;5;21;01mpyplot\u001b[39;00m \u001b[38;5;28;01mas\u001b[39;00m \u001b[38;5;21;01mplt\u001b[39;00m\n\u001b[0;32m----> 6\u001b[0m df \u001b[38;5;241m=\u001b[39m pd\u001b[38;5;241m.\u001b[39mread_excel(\u001b[38;5;124m'\u001b[39m\u001b[38;5;124m/Users/cha/Documents/Ironhack2/UNIT 2/Document - Shark Attacks/GSAF5.xls\u001b[39m\u001b[38;5;124m'\u001b[39m)\n\u001b[1;32m      7\u001b[0m df\u001b[38;5;241m.\u001b[39mhead()\n",
      "File \u001b[0;32m/opt/anaconda3/lib/python3.12/site-packages/pandas/io/excel/_base.py:495\u001b[0m, in \u001b[0;36mread_excel\u001b[0;34m(io, sheet_name, header, names, index_col, usecols, dtype, engine, converters, true_values, false_values, skiprows, nrows, na_values, keep_default_na, na_filter, verbose, parse_dates, date_parser, date_format, thousands, decimal, comment, skipfooter, storage_options, dtype_backend, engine_kwargs)\u001b[0m\n\u001b[1;32m    493\u001b[0m \u001b[38;5;28;01mif\u001b[39;00m \u001b[38;5;129;01mnot\u001b[39;00m \u001b[38;5;28misinstance\u001b[39m(io, ExcelFile):\n\u001b[1;32m    494\u001b[0m     should_close \u001b[38;5;241m=\u001b[39m \u001b[38;5;28;01mTrue\u001b[39;00m\n\u001b[0;32m--> 495\u001b[0m     io \u001b[38;5;241m=\u001b[39m ExcelFile(\n\u001b[1;32m    496\u001b[0m         io,\n\u001b[1;32m    497\u001b[0m         storage_options\u001b[38;5;241m=\u001b[39mstorage_options,\n\u001b[1;32m    498\u001b[0m         engine\u001b[38;5;241m=\u001b[39mengine,\n\u001b[1;32m    499\u001b[0m         engine_kwargs\u001b[38;5;241m=\u001b[39mengine_kwargs,\n\u001b[1;32m    500\u001b[0m     )\n\u001b[1;32m    501\u001b[0m \u001b[38;5;28;01melif\u001b[39;00m engine \u001b[38;5;129;01mand\u001b[39;00m engine \u001b[38;5;241m!=\u001b[39m io\u001b[38;5;241m.\u001b[39mengine:\n\u001b[1;32m    502\u001b[0m     \u001b[38;5;28;01mraise\u001b[39;00m \u001b[38;5;167;01mValueError\u001b[39;00m(\n\u001b[1;32m    503\u001b[0m         \u001b[38;5;124m\"\u001b[39m\u001b[38;5;124mEngine should not be specified when passing \u001b[39m\u001b[38;5;124m\"\u001b[39m\n\u001b[1;32m    504\u001b[0m         \u001b[38;5;124m\"\u001b[39m\u001b[38;5;124man ExcelFile - ExcelFile already has the engine set\u001b[39m\u001b[38;5;124m\"\u001b[39m\n\u001b[1;32m    505\u001b[0m     )\n",
      "File \u001b[0;32m/opt/anaconda3/lib/python3.12/site-packages/pandas/io/excel/_base.py:1550\u001b[0m, in \u001b[0;36mExcelFile.__init__\u001b[0;34m(self, path_or_buffer, engine, storage_options, engine_kwargs)\u001b[0m\n\u001b[1;32m   1548\u001b[0m     ext \u001b[38;5;241m=\u001b[39m \u001b[38;5;124m\"\u001b[39m\u001b[38;5;124mxls\u001b[39m\u001b[38;5;124m\"\u001b[39m\n\u001b[1;32m   1549\u001b[0m \u001b[38;5;28;01melse\u001b[39;00m:\n\u001b[0;32m-> 1550\u001b[0m     ext \u001b[38;5;241m=\u001b[39m inspect_excel_format(\n\u001b[1;32m   1551\u001b[0m         content_or_path\u001b[38;5;241m=\u001b[39mpath_or_buffer, storage_options\u001b[38;5;241m=\u001b[39mstorage_options\n\u001b[1;32m   1552\u001b[0m     )\n\u001b[1;32m   1553\u001b[0m     \u001b[38;5;28;01mif\u001b[39;00m ext \u001b[38;5;129;01mis\u001b[39;00m \u001b[38;5;28;01mNone\u001b[39;00m:\n\u001b[1;32m   1554\u001b[0m         \u001b[38;5;28;01mraise\u001b[39;00m \u001b[38;5;167;01mValueError\u001b[39;00m(\n\u001b[1;32m   1555\u001b[0m             \u001b[38;5;124m\"\u001b[39m\u001b[38;5;124mExcel file format cannot be determined, you must specify \u001b[39m\u001b[38;5;124m\"\u001b[39m\n\u001b[1;32m   1556\u001b[0m             \u001b[38;5;124m\"\u001b[39m\u001b[38;5;124man engine manually.\u001b[39m\u001b[38;5;124m\"\u001b[39m\n\u001b[1;32m   1557\u001b[0m         )\n",
      "File \u001b[0;32m/opt/anaconda3/lib/python3.12/site-packages/pandas/io/excel/_base.py:1402\u001b[0m, in \u001b[0;36minspect_excel_format\u001b[0;34m(content_or_path, storage_options)\u001b[0m\n\u001b[1;32m   1399\u001b[0m \u001b[38;5;28;01mif\u001b[39;00m \u001b[38;5;28misinstance\u001b[39m(content_or_path, \u001b[38;5;28mbytes\u001b[39m):\n\u001b[1;32m   1400\u001b[0m     content_or_path \u001b[38;5;241m=\u001b[39m BytesIO(content_or_path)\n\u001b[0;32m-> 1402\u001b[0m \u001b[38;5;28;01mwith\u001b[39;00m get_handle(\n\u001b[1;32m   1403\u001b[0m     content_or_path, \u001b[38;5;124m\"\u001b[39m\u001b[38;5;124mrb\u001b[39m\u001b[38;5;124m\"\u001b[39m, storage_options\u001b[38;5;241m=\u001b[39mstorage_options, is_text\u001b[38;5;241m=\u001b[39m\u001b[38;5;28;01mFalse\u001b[39;00m\n\u001b[1;32m   1404\u001b[0m ) \u001b[38;5;28;01mas\u001b[39;00m handle:\n\u001b[1;32m   1405\u001b[0m     stream \u001b[38;5;241m=\u001b[39m handle\u001b[38;5;241m.\u001b[39mhandle\n\u001b[1;32m   1406\u001b[0m     stream\u001b[38;5;241m.\u001b[39mseek(\u001b[38;5;241m0\u001b[39m)\n",
      "File \u001b[0;32m/opt/anaconda3/lib/python3.12/site-packages/pandas/io/common.py:882\u001b[0m, in \u001b[0;36mget_handle\u001b[0;34m(path_or_buf, mode, encoding, compression, memory_map, is_text, errors, storage_options)\u001b[0m\n\u001b[1;32m    873\u001b[0m         handle \u001b[38;5;241m=\u001b[39m \u001b[38;5;28mopen\u001b[39m(\n\u001b[1;32m    874\u001b[0m             handle,\n\u001b[1;32m    875\u001b[0m             ioargs\u001b[38;5;241m.\u001b[39mmode,\n\u001b[0;32m   (...)\u001b[0m\n\u001b[1;32m    878\u001b[0m             newline\u001b[38;5;241m=\u001b[39m\u001b[38;5;124m\"\u001b[39m\u001b[38;5;124m\"\u001b[39m,\n\u001b[1;32m    879\u001b[0m         )\n\u001b[1;32m    880\u001b[0m     \u001b[38;5;28;01melse\u001b[39;00m:\n\u001b[1;32m    881\u001b[0m         \u001b[38;5;66;03m# Binary mode\u001b[39;00m\n\u001b[0;32m--> 882\u001b[0m         handle \u001b[38;5;241m=\u001b[39m \u001b[38;5;28mopen\u001b[39m(handle, ioargs\u001b[38;5;241m.\u001b[39mmode)\n\u001b[1;32m    883\u001b[0m     handles\u001b[38;5;241m.\u001b[39mappend(handle)\n\u001b[1;32m    885\u001b[0m \u001b[38;5;66;03m# Convert BytesIO or file objects passed with an encoding\u001b[39;00m\n",
      "\u001b[0;31mFileNotFoundError\u001b[0m: [Errno 2] No such file or directory: '/Users/cha/Documents/Ironhack2/UNIT 2/Document - Shark Attacks/GSAF5.xls'"
     ]
    }
   ],
   "source": [
    "import pandas as pd\n",
    "import numpy as np \n",
    "import matplotlib.pyplot as plt\n",
    "\n",
    "\n",
    "df = pd.read_excel('/Users/cha/Documents/Ironhack2/UNIT 2/Document - Shark Attacks/GSAF5.xls')\n",
    "df.head()\n",
    "\n",
    "\n",
    "\n",
    "\n"
   ]
  },
  {
   "cell_type": "code",
   "execution_count": null,
   "id": "096ffb17-fc00-4d6e-af09-dc48fa3c5613",
   "metadata": {},
   "outputs": [],
   "source": [
    "df.tail()"
   ]
  },
  {
   "cell_type": "code",
   "execution_count": null,
   "id": "0883cf7b-3926-4816-bf2d-18b406a92b2c",
   "metadata": {},
   "outputs": [],
   "source": [
    "df.sample(15)"
   ]
  },
  {
   "cell_type": "code",
   "execution_count": null,
   "id": "56b6a73c-4e73-4698-93ce-2912a7a6ba53",
   "metadata": {},
   "outputs": [],
   "source": [
    "print(df.columns)\n",
    "\n"
   ]
  },
  {
   "cell_type": "code",
   "execution_count": null,
   "id": "f000737d-9c01-4153-a766-a36d11ba9a82",
   "metadata": {},
   "outputs": [],
   "source": [
    "\n",
    "\n",
    "df[\"Country\"] = df[\"Country\"].str.strip() \n",
    "df[\"Country\"] = df[\"Country\"].str.capitalize()\n",
    "\n",
    "unique_countries = df[\"Country\"].unique()\n",
    "print(unique_countries)\n",
    "\n",
    "\n",
    "    "
   ]
  },
  {
   "cell_type": "code",
   "execution_count": null,
   "id": "98127fad-dc4f-4cc8-9739-67ef7975a00f",
   "metadata": {},
   "outputs": [],
   "source": [
    "\n",
    "\n",
    "pd.options.display.max_rows = 209\n",
    "\n",
    "country_count = df[\"Country\"].value_counts()\n",
    "print(country_count)\n"
   ]
  },
  {
   "cell_type": "code",
   "execution_count": null,
   "id": "b49c4975-7b6f-48ae-aa78-758286a6e6d0",
   "metadata": {},
   "outputs": [],
   "source": [
    "\n",
    "country_count = df[\"Country\"].nunique()\n",
    "print(country_count)\n"
   ]
  },
  {
   "cell_type": "code",
   "execution_count": null,
   "id": "af51d9ef-e7fc-45d8-adc0-d6e932ed768a",
   "metadata": {},
   "outputs": [],
   "source": [
    "df[\"Type\"] = df[\"Type\"].str.strip() \n",
    "df[\"Type\"] = df[\"Type\"].str.capitalize()\n",
    "\n",
    "unique_type = df[\"Type\"].unique()\n",
    "print(unique_type)"
   ]
  },
  {
   "cell_type": "code",
   "execution_count": null,
   "id": "4a3939d4-9f86-45d0-9e22-e3b2b871d02a",
   "metadata": {},
   "outputs": [],
   "source": [
    "df[\"Injury\"] = df[\"Injury\"].str.strip() \n",
    "\n",
    "unique_injury = df[\"Injury\"].unique()\n",
    "print(unique_injury)"
   ]
  },
  {
   "cell_type": "code",
   "execution_count": null,
   "id": "90d7e7c1-888a-4470-9abb-fe1b7d1768ad",
   "metadata": {},
   "outputs": [],
   "source": [
    "pd.options.display.max_rows = 209\n",
    "\n",
    "\n",
    "injury_count = df[\"Injury\"].value_counts() \n",
    "print(injury_count)"
   ]
  },
  {
   "cell_type": "code",
   "execution_count": null,
   "id": "50036b30-816e-49ac-8e9b-bcc9d28a6a1e",
   "metadata": {},
   "outputs": [],
   "source": [
    "shark_fatals = df.query(\"Injury=='Fatal'\")[\"Country\"].sort_values(ascending = False)\n",
    "shark_fatals "
   ]
  },
  {
   "cell_type": "code",
   "execution_count": null,
   "id": "b55197ee-1c29-4744-8eb7-ef57099e22cd",
   "metadata": {},
   "outputs": [],
   "source": [
    "Mexico_attacks = df.loc[(df['Country'] == \"Mexico\")]\n",
    "Mexico_attacks "
   ]
  },
  {
   "cell_type": "code",
   "execution_count": null,
   "id": "fa03f5ac-0739-49f3-883c-99eae0ef97c6",
   "metadata": {},
   "outputs": [],
   "source": [
    "specific_countries = [\"Mexico\", \"Portugal\", \"South Africa\", \"Australia\"]\n",
    "df_filtered = df[df[\"Country\"].isin(specific_countries)]\n",
    "df_filtered \n"
   ]
  },
  {
   "cell_type": "code",
   "execution_count": null,
   "id": "03d68902-02d4-428d-9616-f098ec4908e2",
   "metadata": {},
   "outputs": [],
   "source": [
    "df_filtered[df_filtered[\"Country\"].isin(specific_countries)].isnull().sum()"
   ]
  },
  {
   "cell_type": "code",
   "execution_count": null,
   "id": "375d5095-a7a2-46ee-9064-802ad095883c",
   "metadata": {
    "scrolled": true
   },
   "outputs": [],
   "source": [
    "df_filtered.columns = df_filtered.columns.str.strip()\n",
    "\n",
    "counts_portugal = (df['Country'].str.lower() == 'portugal').value_counts()\n",
    "\n",
    "df_filtered.drop(columns=['Name','Species','Sex','Unnamed: 11','Time','Source','pdf','href','href formula','original order','Case Number','Case Number.1','Unnamed: 21','Unnamed: 22','Type','Year','Age'], inplace=True)\n",
    "df_filtered "
   ]
  },
  {
   "cell_type": "code",
   "execution_count": null,
   "id": "c3a2d32a-c19b-4364-9728-6df832dbcca4",
   "metadata": {},
   "outputs": [],
   "source": [
    "counts_portugal = (df_filtered['Country'].str.lower().str.strip().str.replace(\" \",\"\") == 'portugal').value_counts()\n",
    "counts_portugal "
   ]
  },
  {
   "cell_type": "code",
   "execution_count": null,
   "id": "9ef50bff-23dc-4f8e-8726-0c1ef6159c10",
   "metadata": {},
   "outputs": [],
   "source": [
    "counts_southafrica = (df_filtered['Country'].str.lower().str.strip().str.replace(\" \",\"\") == 'South africa').value_counts()\n",
    "counts_southafrica"
   ]
  },
  {
   "cell_type": "code",
   "execution_count": null,
   "id": "63c8afd2-d8ca-46ae-b4a7-7ef55940fb07",
   "metadata": {},
   "outputs": [],
   "source": [
    "counts_mexico = (df_filtered['Country'].str.lower().str.strip().str.replace(\" \",\"\") == 'Mexico').value_counts()\n",
    "counts_mexico "
   ]
  },
  {
   "cell_type": "markdown",
   "id": "9f609f0e-1f67-4ee5-9b4e-308e760f9040",
   "metadata": {},
   "source": [
    "### Australia"
   ]
  },
  {
   "cell_type": "code",
   "execution_count": null,
   "id": "8dcaa7c7-d111-43ed-b303-1b3007c0891e",
   "metadata": {},
   "outputs": [],
   "source": [
    "import pandas as pd\n",
    "\n",
    "\n",
    "df.columns = df.columns.str.strip()\n",
    "df.columns "
   ]
  },
  {
   "cell_type": "code",
   "execution_count": null,
   "id": "ef74b159-3a0c-44fb-bfb6-705465ed263e",
   "metadata": {},
   "outputs": [],
   "source": [
    "# Remove spaces from column names\n",
    "df.columns = df.columns.str.strip()\n",
    "\n",
    "# Filter for specific countries and surfing activity in Australia\n",
    "specific_countries = [\"Australia\"]\n",
    "df_filtered = df[(df[\"Country\"].isin(specific_countries)) & (df[\"Activity\"] == \"Surfing\")].copy()\n",
    "\n",
    "# Drop irrelevant columns \n",
    "columns_to_drop = ['Name', 'Species', 'Sex', 'Unnamed: 11', 'Time', 'Source', 'pdf', \n",
    "                   'href', 'href formula', 'original order', 'Case Number', 'Case Number.1', \n",
    "                   'Unnamed: 21', 'Unnamed: 22', 'Type', 'Age']\n",
    "df_filtered.drop(columns=columns_to_drop, inplace=True)"
   ]
  },
  {
   "cell_type": "code",
   "execution_count": null,
   "id": "f8b925bb-540e-4376-a224-75e48abd4c52",
   "metadata": {},
   "outputs": [],
   "source": [
    "# Create a 'isfatal' column: 1 if attack is fatal, 0 non fatal\n",
    "df_filtered['isfatal'] = df_filtered['Injury'].apply(lambda x: 1 if isinstance(x, str) and 'fatal' in x.lower() else 0)\n",
    "df_filtered['isfatal']"
   ]
  },
  {
   "cell_type": "code",
   "execution_count": null,
   "id": "296918cf-f2e1-4eac-9be2-e98002547e1e",
   "metadata": {},
   "outputs": [],
   "source": [
    "australia_fatal = australia_attacks.groupby('Location').agg({'isfatal': 'sum'}).reset_index()\n",
    "australia_fatal"
   ]
  },
  {
   "cell_type": "code",
   "execution_count": null,
   "id": "33f18253-ece6-4e76-b448-ca55bfc9dec5",
   "metadata": {},
   "outputs": [],
   "source": [
    "final_australia_fatal = australia_attacks[['Date', 'Location']].merge(australia_fatal, on='Location', how='inner')\n",
    "\n",
    "final_australia_fatal "
   ]
  },
  {
   "cell_type": "code",
   "execution_count": null,
   "id": "b134f99a-1b3c-45c2-bb5f-2df74ca13b73",
   "metadata": {},
   "outputs": [],
   "source": [
    "final_australia_fatal.dropna(inplace=True)\n",
    "final_australia_fatal"
   ]
  },
  {
   "cell_type": "code",
   "execution_count": null,
   "id": "96faf41d-2eb0-4baa-8c91-7d249ef55c30",
   "metadata": {},
   "outputs": [],
   "source": [
    "final_australia_fatal['Date'] = pd.to_datetime(final_australia_fatal['Date'], errors='coerce')\n",
    "final_australia_fatal['Year'] = final_australia_fatal['Date'].dt.year\n",
    "final_australia_fatal['Date']\n"
   ]
  },
  {
   "cell_type": "code",
   "execution_count": null,
   "id": "66d5b271-4b4e-4ab0-b71e-ad30a89a0a52",
   "metadata": {},
   "outputs": [],
   "source": [
    "final_australia_fatal['Year']"
   ]
  },
  {
   "cell_type": "code",
   "execution_count": null,
   "id": "b4a250db-d992-42dd-8118-a45f246afbbf",
   "metadata": {},
   "outputs": [],
   "source": [
    "attacks_by_location = final_australia_fatal.groupby(['Location', 'isfatal']).size().unstack(fill_value=0)\n",
    "attacks_by_location.columns = ['Non Fatal Attacks', 'Fatal Attacks']\n",
    "attacks_by_location"
   ]
  },
  {
   "cell_type": "code",
   "execution_count": null,
   "id": "4baa6088-e9e4-41d4-9e1a-578bf7e91547",
   "metadata": {},
   "outputs": [],
   "source": [
    "safe_locations = attacks_by_location[attacks_by_location['Fatal Attacks'] == 0].sort_values(by='Non Fatal Attacks', ascending=True)\n",
    "safe_locations"
   ]
  },
  {
   "cell_type": "code",
   "execution_count": null,
   "id": "b2be5faf-8501-4a21-b270-5c6a1343dee0",
   "metadata": {},
   "outputs": [],
   "source": [
    "least_attacks_locations = safe_locations.head(10)\n",
    "least_attacks_locations"
   ]
  },
  {
   "cell_type": "code",
   "execution_count": null,
   "id": "868ec4e2-3e0e-402b-86dd-3fc533b7edb3",
   "metadata": {},
   "outputs": [],
   "source": [
    "plt.figure(figsize=(12, 8))\n",
    "plt.barh(least_attacks_locations.index, least_attacks_locations['Non Fatal Attacks'], color='blue')\n",
    "plt.xlabel(\"Number of Non-Fatal Attacks\")\n",
    "plt.ylabel(\"Location\")\n",
    "plt.title(\"Top 10 Beaches in Australia with the Least Non-Fatal Attacks and Zero Fatal Attacks\")\n",
    "plt.gca().invert_yaxis()\n",
    "plt.show()\n"
   ]
  },
  {
   "cell_type": "code",
   "execution_count": null,
   "id": "04d7e6a4-0d63-450e-ada3-6b91ca59ec54",
   "metadata": {},
   "outputs": [],
   "source": [
    "attacks_per_year = final_australia_fatal.groupby(['Year', 'isfatal']).size().unstack(fill_value=0)\n",
    "attacks_per_year.columns = ['Non Fatal Attacks', 'Fatal Attacks']"
   ]
  },
  {
   "cell_type": "code",
   "execution_count": null,
   "id": "6708be15-0eb0-465a-abec-225baed7fab5",
   "metadata": {},
   "outputs": [],
   "source": [
    "plt.figure(figsize=(12, 6))\n",
    "plt.plot(attacks_per_year.index, attacks_per_year['Non Fatal Attacks'], label='Non Fatal Attacks', marker='o')\n",
    "plt.plot(attacks_per_year.index, attacks_per_year['Fatal Attacks'], label='Fatal Attacks', marker='o', color='red')\n",
    "plt.xlabel('Year')\n",
    "plt.ylabel('Number of Attacks')\n",
    "plt.title('Evolution of Fatal and Non-Fatal Shark Attacks Over Time in Australia')\n",
    "plt.legend()\n",
    "plt.grid(True)\n",
    "plt.show()"
   ]
  },
  {
   "cell_type": "markdown",
   "id": "a689866e-a8a8-4a7e-9b5a-ad7c2b4e847a",
   "metadata": {},
   "source": [
    "Bondi Beach, New South Wales - Listed as \"Off North Bondi\" in your data (safe with 0 fatal attacks)\n",
    "Phillip Island - Appears in your safe locations with 0 fatal attacks\n",
    "Point Lookout, Stradbroke Island - Matches \"Stradbroke Island,\" noted for surfing potential, with no fatal attacks in your list"
   ]
  },
  {
   "cell_type": "code",
   "execution_count": null,
   "id": "e78f3f9b-cbdd-4ed9-8d67-6d1d6b199476",
   "metadata": {},
   "outputs": [],
   "source": [
    "import pandas as pd\n",
    "import matplotlib.pyplot as plt\n",
    "\n",
    "# Convert the 'Date' column to datetime and extract the year\n",
    "final_australia_fatal['Date'] = pd.to_datetime(final_australia_fatal['Date'], errors='coerce')\n",
    "final_australia_fatal['Year'] = final_australia_fatal['Date'].dt.year\n",
    "\n",
    "# Group data by location and fatality\n",
    "attacks_by_location = final_australia_fatal.groupby(['Location', 'isfatal']).size().unstack(fill_value=0)\n",
    "attacks_by_location.columns = ['Non Fatal Attacks', 'Fatal Attacks']\n",
    "\n",
    "# Filter to get only beaches with zero fatal attacks\n",
    "safe_locations = attacks_by_location[attacks_by_location['Fatal Attacks'] == 0].sort_values(by='Non Fatal Attacks', ascending=True)\n",
    "\n",
    "# Select the 10 locations with the least non-fatal attacks \n",
    "least_attacks_locations = safe_locations.head(10)\n",
    "\n",
    "plt.figure(figsize=(12, 8))\n",
    "plt.barh(least_attacks_locations.index, least_attacks_locations['Non Fatal Attacks'], color='blue')\n",
    "plt.xlabel(\"Number of Non-Fatal Attacks\")\n",
    "plt.ylabel(\"Location\")\n",
    "plt.title(\"Top 10 Beaches in Australia with the Least Non-Fatal Attacks (and No Fatal Attacks)\")\n",
    "plt.gca().invert_yaxis()  # Invert y-axis for easier reading\n",
    "plt.show()\n"
   ]
  },
  {
   "cell_type": "code",
   "execution_count": null,
   "id": "39511a88-e07c-47f5-9088-8bed3f8cf40d",
   "metadata": {
    "scrolled": true
   },
   "outputs": [],
   "source": [
    "import pandas as pd\n",
    "import matplotlib.pyplot as plt\n",
    "\n",
    "\n",
    "final_australia_fatal['Date'] = pd.to_datetime(final_australia_fatal['Date'], errors='coerce')\n",
    "final_australia_fatal['Year'] = final_australia_fatal['Date'].dt.year\n",
    "\n",
    "# Analyze the safest beaches with no fatal attacks\n",
    "attacks_by_location = final_australia_fatal.groupby(['Location', 'isfatal']).size().unstack(fill_value=0)\n",
    "attacks_by_location.columns = ['Non Fatal Attacks', 'Fatal Attacks']\n",
    "\n",
    "# Filter locations with zero fatal attacks\n",
    "safe_locations = attacks_by_location[attacks_by_location['Fatal Attacks'] == 0].sort_values(by='Non Fatal Attacks', ascending=True)\n",
    "\n",
    "# Select the top 10 locations with the least non-fatal attacks\n",
    "least_attacks_locations = safe_locations.head(10)\n",
    "\n",
    "# Plotting the bar chart for locations with the least non-fatal attacks \n",
    "plt.figure(figsize=(12, 8))\n",
    "plt.barh(least_attacks_locations.index, least_attacks_locations['Non Fatal Attacks'], color='blue')\n",
    "plt.xlabel(\"Number of Non-Fatal Attacks\")\n",
    "plt.ylabel(\"Location\")\n",
    "plt.title(\"Top 10 Beaches in Australia with the Least Non-Fatal Attacks (and No Fatal Attacks)\")\n",
    "plt.gca().invert_yaxis()  # Invert y-axis for easier reading\n",
    "plt.show()\n",
    "\n",
    "# Group data by year and fatality\n",
    "attacks_per_year = final_australia_fatal.groupby(['Year', 'isfatal']).size().unstack(fill_value=0)\n",
    "attacks_per_year.columns = ['Non Fatal Attacks', 'Fatal Attacks']\n",
    "\n",
    "# Plotting the time series for fatal and non-fatal attacks\n",
    "plt.figure(figsize=(12, 6))\n",
    "plt.plot(attacks_per_year.index, attacks_per_year['Non Fatal Attacks'], label='Non Fatal Attacks', marker='o')\n",
    "plt.plot(attacks_per_year.index, attacks_per_year['Fatal Attacks'], label='Fatal Attacks', marker='o', color='red')\n",
    "\n",
    "# Adding labels and title\n",
    "plt.xlabel('Year')\n",
    "plt.ylabel('Number of Attacks')\n",
    "plt.title('Evolution of Fatal and Non-Fatal Shark Attacks Over Time in Australia')\n",
    "plt.legend()\n",
    "plt.grid(True)\n",
    "plt.show()\n"
   ]
  },
  {
   "cell_type": "markdown",
   "id": "55f1943b-b996-4a99-a03f-96f2867145e2",
   "metadata": {},
   "source": [
    "From both lists, here are the beaches in Australia that overlap and could be suitable for a surf school due to their popularity and beginner-friendly characteristics:\n",
    "\n",
    "- Bondi Beach, New South Walesa\n",
    "\n",
    "- 7 Mile Beach, Gerroa\n",
    "\n"
   ]
  },
  {
   "cell_type": "markdown",
   "id": "63cb6491-9d27-4948-a19a-33b156e0444e",
   "metadata": {},
   "source": [
    "### Mexico"
   ]
  },
  {
   "cell_type": "code",
   "execution_count": null,
   "id": "ea193650-5287-4671-b814-ea1ab6e39558",
   "metadata": {},
   "outputs": [],
   "source": [
    "import pandas as pd\n",
    "import matplotlib.pyplot as plt\n",
    "\n",
    "# Assuming df is available, we'll replicate the Mexico-specific analysis similar to the Australian one.\n",
    "\n",
    "# Filter for shark attacks in Mexico related to surfing\n",
    "mexico_attacks = df[(df['Country'].str.lower() == 'mexico') & (df['Activity'].str.contains('surfing', case=False, na=False))].copy()\n",
    "\n",
    "# Add a column to identify if the attack was fatal\n",
    "mexico_attacks['isfatal'] = mexico_attacks['Injury'].apply(lambda x: 1 if 'fatal' in str(x).lower() else 0)\n",
    "\n",
    "# Group by location to count fatal attacks\n",
    "mexico_fatal = mexico_attacks.groupby('Location').agg({'isfatal': 'sum'}).reset_index()\n",
    "final_mexico_fatal = mexico_attacks[['Date', 'Location']].merge(mexico_fatal, on='Location', how='inner')\n",
    "final_mexico_fatal.dropna(subset=['Date'], inplace=True)\n",
    "final_mexico_fatal['Date'] = pd.to_datetime(final_mexico_fatal['Date'], errors='coerce')\n",
    "final_mexico_fatal['Year'] = final_mexico_fatal['Date'].dt.year\n",
    "\n",
    "# Analyze the safest beaches with no fatal attacks\n",
    "attacks_by_location_mex = final_mexico_fatal.groupby(['Location', 'isfatal']).size().unstack(fill_value=0)\n",
    "attacks_by_location_mex.columns = ['Non Fatal Attacks', 'Fatal Attacks']\n",
    "\n",
    "# Filter locations with zero fatal attacks\n",
    "safe_locations_mex = attacks_by_location_mex[attacks_by_location_mex['Fatal Attacks'] == 0].sort_values(by='Non Fatal Attacks', ascending=True)\n",
    "\n",
    "# Select the top 10 locations with the least non-fatal attacks\n",
    "least_attacks_locations_mex = safe_locations_mex.head(10)\n",
    "\n",
    "# Plotting the bar chart for locations with the least non-fatal attacks\n",
    "plt.figure(figsize=(12, 8))\n",
    "plt.barh(least_attacks_locations_mex.index, least_attacks_locations_mex['Non Fatal Attacks'], color='blue')\n",
    "plt.xlabel(\"Number of Non-Fatal Attacks\")\n",
    "plt.ylabel(\"Location\")\n",
    "plt.title(\"Top 10 Beaches in Mexico with the Least Non-Fatal Attacks (and No Fatal Attacks)\")\n",
    "plt.gca().invert_yaxis()  # Invert y-axis for easier reading\n",
    "plt.show()\n",
    "\n",
    "# Group data by year and fatality for Mexico\n",
    "attacks_per_year_mex = final_mexico_fatal.groupby(['Year', 'isfatal']).size().unstack(fill_value=0)\n",
    "attacks_per_year_mex.columns = ['Non Fatal Attacks', 'Fatal Attacks']\n",
    "\n",
    "# Plotting the time series for fatal and non-fatal attacks\n",
    "plt.figure(figsize=(12, 6))\n",
    "plt.plot(attacks_per_year_mex.index, attacks_per_year_mex['Non Fatal Attacks'], label='Non Fatal Attacks', marker='o')\n",
    "plt.plot(attacks_per_year_mex.index, attacks_per_year_mex['Fatal Attacks'], label='Fatal Attacks', marker='o', color='red')\n",
    "\n",
    "# Adding labels and title\n",
    "plt.xlabel('Year')\n",
    "plt.ylabel('Number of Attacks')\n",
    "plt.title('Evolution of Fatal and Non-Fatal Shark Attacks Over Time in Mexico')\n",
    "plt.legend()\n",
    "plt.grid(True)\n",
    "plt.show()\n"
   ]
  },
  {
   "cell_type": "code",
   "execution_count": null,
   "id": "e77d5757-402a-46bd-adf1-90d991146cb3",
   "metadata": {
    "scrolled": true
   },
   "outputs": [],
   "source": [
    "# Group data by year and fatality for Mexico\n",
    "attacks_per_year_mex = final_mexico_fatal.groupby(['Year', 'isfatal']).size().unstack(fill_value=0)\n",
    "attacks_per_year_mex.columns = ['Non Fatal Attacks', 'Fatal Attacks']\n",
    "\n",
    "# Plotting the time series for Mexico\n",
    "plt.figure(figsize=(12, 6))\n",
    "plt.plot(attacks_per_year_mex.index, attacks_per_year_mex['Non Fatal Attacks'], label='Non Fatal Attacks', marker='o')\n",
    "plt.plot(attacks_per_year_mex.index, attacks_per_year_mex['Fatal Attacks'], label='Fatal Attacks', marker='o', color='red')\n",
    "plt.xlabel('Year')\n",
    "plt.ylabel('Number of Attacks')\n",
    "plt.title('Evolution of Fatal and Non-Fatal Shark Attacks Over Time in Mexico')\n",
    "plt.legend()\n",
    "plt.grid(True)\n",
    "plt.show()\n"
   ]
  },
  {
   "cell_type": "markdown",
   "id": "a41880d8-1ee0-408b-92ff-a750c5df0935",
   "metadata": {},
   "source": [
    "### South Africa"
   ]
  },
  {
   "cell_type": "code",
   "execution_count": null,
   "id": "71a72e20-e3ee-4e46-a84c-924b4f90f76f",
   "metadata": {},
   "outputs": [],
   "source": [
    "# Strip whitespace from column names\n",
    "df.columns = df.columns.str.strip()\n",
    "\n",
    "south_africa_attacks = df[(df['Country'].str.strip().str.lower() == 'south africa') & \n",
    "                          (df['Activity'].str.strip().str.lower() == 'surfing')].copy()\n",
    "\n",
    "# Create 'isfatal' column based on the 'Injury' column\n",
    "south_africa_attacks['isfatal'] = south_africa_attacks['Injury'].apply(lambda x: 1 if 'FATAL' in str(x).upper() else 0)\n",
    "\n",
    "# Convert 'Date' to datetime format and extract year\n",
    "south_africa_attacks['Date'] = pd.to_datetime(south_africa_attacks['Date'], errors='coerce')\n",
    "south_africa_attacks['Year'] = south_africa_attacks['Date'].dt.year\n",
    "\n",
    "# Group by Location and sum fatalities\n",
    "south_africa_fatal = south_africa_attacks.groupby('Location').agg({'isfatal': 'sum'}).reset_index()\n",
    "\n",
    "# Merge with original data to keep dates\n",
    "final_south_africa_fatal = south_africa_attacks[['Date', 'Location']].merge(\n",
    "    south_africa_fatal, on='Location', how='inner'\n",
    ")\n",
    "\n",
    "final_south_africa_fatal.dropna(inplace=True)\n",
    "\n",
    "# Calculate attacks by year and fatality type\n",
    "attacks_per_year = final_south_africa_fatal.groupby(['Date', 'isfatal']).size().unstack(fill_value=0)\n",
    "attacks_per_year.columns = ['Non Fatal Attacks', 'Fatal Attacks']\n",
    "\n",
    "# Plot time series for South Africa\n",
    "plt.figure(figsize=(12, 6))\n",
    "plt.plot(attacks_per_year.index, attacks_per_year['Non Fatal Attacks'], label='Non Fatal Attacks', marker='o')\n",
    "plt.plot(attacks_per_year.index, attacks_per_year['Fatal Attacks'], label='Fatal Attacks', marker='o', color='red')\n",
    "plt.xlabel('Year')\n",
    "plt.ylabel('Number of Attacks')\n",
    "plt.title('Evolution of Fatal and Non-Fatal Shark Attacks Over Time in South Africa')\n",
    "plt.legend()\n",
    "plt.grid(True)\n",
    "plt.show()\n",
    "\n",
    "\n",
    "# Sort the top 10 beaches with the fewest non-fatal attacks\n",
    "top_safe_locations = safe_locations_non_fatal_count.sort_values(by='NonFatalCount', ascending=True).head(10)\n",
    "\n",
    "# Plot the bar chart with enhanced readability\n",
    "plt.figure(figsize=(14, 8))\n",
    "plt.barh(top_safe_locations['Location'], top_safe_locations['NonFatalCount'], color='blue')\n",
    "plt.xlabel(\"Number of Non-Fatal Attacks\")\n",
    "plt.ylabel(\"Location\")\n",
    "plt.title(\"Top 10 Safe Beaches in South Africa with the Fewest Non-Fatal Shark Attacks\")\n",
    "plt.gca().invert_yaxis()  # Invert y-axis for easier reading\n",
    "\n",
    "# Font size \n",
    "plt.xticks(fontsize=10)\n",
    "plt.yticks(fontsize=10)\n",
    "plt.show()\n",
    "print(top_safe_locations)\n"
   ]
  },
  {
   "cell_type": "code",
   "execution_count": null,
   "id": "85c3839d-1209-4f33-8d78-354ed8203a05",
   "metadata": {},
   "outputs": [],
   "source": [
    "# Filter safe locations with at least one non-fatal attack\n",
    "safe_locations_with_non_fatal = south_africa_attacks[south_africa_attacks['isfatal'] == 0]\n",
    "safe_locations_non_fatal_count = safe_locations_with_non_fatal.groupby('Location').size().reset_index(name='NonFatalCount')\n",
    "\n",
    "# Sort the DataFrame in ascending order by NonFatalCount\n",
    "safe_locations_non_fatal_count_sorted = safe_locations_non_fatal_count.sort_values(by='NonFatalCount', ascending=True)\n",
    "\n",
    "# Display the sorted DataFrame\n",
    "print(\"Safe Locations with Non-Fatal Attacks (Ascending Order):\\n\", safe_locations_non_fatal_count_sorted)\n",
    "\n"
   ]
  },
  {
   "cell_type": "code",
   "execution_count": null,
   "id": "9bde41b3-4b55-401a-baf5-fc3c9d1efb69",
   "metadata": {},
   "outputs": [],
   "source": [
    "safe_locations = south_africa_fatal[south_africa_fatal['isfatal'] == 0]\n",
    "safe_locations\n"
   ]
  },
  {
   "cell_type": "code",
   "execution_count": null,
   "id": "1b916941-4991-4da1-b9a6-2af26f5b223c",
   "metadata": {},
   "outputs": [],
   "source": [
    "# List of safe beaches with non-fatal attacks in South Africa\n",
    "safe_beaches = [\n",
    "    \"Lookout Beach, Plettenberg Bay\", \"LaMercy\", \"West Beach, Port Alfred\", \"Melkbaai, Strand\",\n",
    "    \"Muizenberg\", \"Muizenberg, False Bay\", \"Nahoon Reef, East London\", \"North Beach, Durban\",\n",
    "    \"Ntlonyane Bay\", \"Plettenberg Bay\", \"Pollock Beach\", \"Pollock Beach, Port Elizabeth\",\n",
    "    \"Qolera River\", \"Robberg Beach\", \"Sandstrand, Jongensfontein\", \"Seal Point, Cape St. Francis\",\n",
    "    \"South of Durban\", \"Stil Bay\", \"Still Bay\", \"Supertubes, Jeffreys Bay\",\n",
    "    \"Surfers' Corner, Muizenberg, False Bay\", \"The Fence, King's Beach, Port Elizabeth\",\n",
    "    \"The Steps, Wilderness\", \"The Strand\", \"Umbogintwini\", \"Umtentweni\", \"Kogebaai\",\n",
    "    \"King’s Beach\", \"Yellow Sands Point\", \"Keurbooms, Plettenberg Bay\", \n",
    "    \"Beachview Holiday Resort\", \"Bonza Bay\", \"Chintsa East Beach\"\n",
    "]\n",
    "\n",
    "# List of recommended surf beaches\n",
    "recommended_surf_beaches = [\n",
    "    \"Jeffreys Bay, Eastern Cape\", \"Muizenberg, Western Cape\", \"Durban, KwaZulu-Natal\",\n",
    "    \"Dungeons, Hout Bay, Western Cape\", \"Victoria Bay, Garden Route\"\n",
    "]\n",
    "\n",
    "# Finding common beaches \n",
    "common_beaches = [\n",
    "    safe_beach for safe_beach in safe_beaches\n",
    "    if any(recommended_beach.split(',')[0] in safe_beach for recommended_beach in recommended_surf_beaches)\n",
    "]\n",
    "\n",
    "print(\"Beaches suitable for surfing with low or no non-fatal shark attacks:\\n\", common_beaches)\n"
   ]
  },
  {
   "cell_type": "markdown",
   "id": "47b13667-b537-4747-83b3-99edf2e73a76",
   "metadata": {},
   "source": [
    "or a beginner-friendly surfing school, Muizenberg (including Surfers' Corner) would be the top choice. It combines a safe environment, ideal wave conditions for learning, and an established surfing community.\n",
    "\n",
    "If you’re looking for a broader audience, North Beach in Durban is another excellent option due to its consistency, warm water, and beach amenities that attract surfers of all levels.\n",
    "\n",
    "\n",
    "\n",
    "\n",
    "\n",
    "\n"
   ]
  },
  {
   "cell_type": "markdown",
   "id": "ad124849-8062-4b69-ab0a-151982ae2d71",
   "metadata": {},
   "source": [
    "### Portugal"
   ]
  },
  {
   "cell_type": "code",
   "execution_count": null,
   "id": "1ba7430e-ace3-487d-8d74-0eb921abe123",
   "metadata": {},
   "outputs": [],
   "source": [
    "df['Country'] = df['Country'].str.strip().str.title()\n",
    "\n",
    "portugal_attacks = df[df['Country'] == 'Portugal'][['Location', 'Injury']].dropna()\n",
    "\n",
    "portugal_attacks['isfatal'] = portugal_attacks['Injury'].apply(lambda x: 1 if 'FATAL' in str(x).upper() else 0)\n",
    "\n",
    "portugal_summary = portugal_attacks.groupby('Location')['isfatal'].agg(\n",
    "    NonFatalCount=lambda x: (x == 0).sum(),\n",
    "    FatalCount=lambda x: (x == 1).sum()\n",
    ").reset_index()\n",
    "\n",
    "print(\"Portugal Locations with Fatal and Non-Fatal Shark Attacks:\")\n",
    "portugal_summary"
   ]
  },
  {
   "cell_type": "markdown",
   "id": "4a53f8cd-1d44-4dfd-b7fc-db31abdaf9c5",
   "metadata": {},
   "source": [
    "Ericeira, Ribeira d’Ilhas: Good for all levels and is a World Surfing Reserve.\n"
   ]
  },
  {
   "cell_type": "code",
   "execution_count": null,
   "id": "e03aee06-5d29-4fef-8ee2-1c6be88ab003",
   "metadata": {},
   "outputs": [],
   "source": []
  }
 ],
 "metadata": {
  "kernelspec": {
   "display_name": "Python 3 (ipykernel)",
   "language": "python",
   "name": "python3"
  },
  "language_info": {
   "codemirror_mode": {
    "name": "ipython",
    "version": 3
   },
   "file_extension": ".py",
   "mimetype": "text/x-python",
   "name": "python",
   "nbconvert_exporter": "python",
   "pygments_lexer": "ipython3",
   "version": "3.12.2"
  }
 },
 "nbformat": 4,
 "nbformat_minor": 5
}
